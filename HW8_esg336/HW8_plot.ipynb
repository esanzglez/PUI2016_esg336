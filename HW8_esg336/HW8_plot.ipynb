{
 "cells": [
  {
   "cell_type": "code",
   "execution_count": 93,
   "metadata": {
    "collapsed": false
   },
   "outputs": [],
   "source": [
    "import numpy as np\n",
    "import pandas as pd\n",
    "import matplotlib as mpl\n",
    "import matplotlib.pyplot as plt\n",
    "import seaborn as sns\n",
    "\n",
    "try:\n",
    "    # Python 3\n",
    "    from urllib.request import urlopen, Request\n",
    "except ImportError:\n",
    "    # Fallback for Python 2\n",
    "    from urllib2 import urlopen\n",
    "    \n",
    "%matplotlib inline"
   ]
  },
  {
   "cell_type": "code",
   "execution_count": 2,
   "metadata": {
    "collapsed": false
   },
   "outputs": [],
   "source": [
    "query = (\"https://data.sfgov.org/resource/cuks-n6tp.json\")\n",
    "raw_data = pd.read_json(query)"
   ]
  },
  {
   "cell_type": "code",
   "execution_count": 3,
   "metadata": {
    "collapsed": false
   },
   "outputs": [
    {
     "data": {
      "text/plain": [
       "Index([u':@computed_region_bh8s_q3mv', u':@computed_region_fyvs_ahh9',\n",
       "       u':@computed_region_p5aj_wyqh', u':@computed_region_rxqg_mtj9',\n",
       "       u':@computed_region_yftq_j783', u'address', u'category', u'date',\n",
       "       u'dayofweek', u'descript', u'incidntnum', u'location', u'pddistrict',\n",
       "       u'pdid', u'resolution', u'time', u'x', u'y'],\n",
       "      dtype='object')"
      ]
     },
     "execution_count": 3,
     "metadata": {},
     "output_type": "execute_result"
    }
   ],
   "source": [
    "raw_data.columns"
   ]
  },
  {
   "cell_type": "code",
   "execution_count": 4,
   "metadata": {
    "collapsed": true
   },
   "outputs": [],
   "source": [
    "sf = raw_data"
   ]
  },
  {
   "cell_type": "code",
   "execution_count": 5,
   "metadata": {
    "collapsed": false
   },
   "outputs": [],
   "source": [
    "sf = sf.drop ([u':@computed_region_bh8s_q3mv', u':@computed_region_fyvs_ahh9',\n",
    "       u':@computed_region_p5aj_wyqh', u':@computed_region_rxqg_mtj9',\n",
    "       u':@computed_region_yftq_j783', u'descript', u'incidntnum',\n",
    "       u'pdid', u'resolution', u'time',u'location'], axis = 1)"
   ]
  },
  {
   "cell_type": "code",
   "execution_count": 6,
   "metadata": {
    "collapsed": false
   },
   "outputs": [
    {
     "data": {
      "text/html": [
       "<div>\n",
       "<table border=\"1\" class=\"dataframe\">\n",
       "  <thead>\n",
       "    <tr style=\"text-align: right;\">\n",
       "      <th></th>\n",
       "      <th>address</th>\n",
       "      <th>category</th>\n",
       "      <th>date</th>\n",
       "      <th>dayofweek</th>\n",
       "      <th>pddistrict</th>\n",
       "      <th>x</th>\n",
       "      <th>y</th>\n",
       "    </tr>\n",
       "  </thead>\n",
       "  <tbody>\n",
       "    <tr>\n",
       "      <th>0</th>\n",
       "      <td>1900 Block of 15TH ST</td>\n",
       "      <td>VANDALISM</td>\n",
       "      <td>2016-10-12</td>\n",
       "      <td>Wednesday</td>\n",
       "      <td>MISSION</td>\n",
       "      <td>-122.427143</td>\n",
       "      <td>37.766176</td>\n",
       "    </tr>\n",
       "    <tr>\n",
       "      <th>1</th>\n",
       "      <td>EDDY ST / JONES ST</td>\n",
       "      <td>NON-CRIMINAL</td>\n",
       "      <td>2016-10-12</td>\n",
       "      <td>Wednesday</td>\n",
       "      <td>TENDERLOIN</td>\n",
       "      <td>-122.412597</td>\n",
       "      <td>37.783932</td>\n",
       "    </tr>\n",
       "    <tr>\n",
       "      <th>2</th>\n",
       "      <td>HARBOR RD / NORTHRIDGE RD</td>\n",
       "      <td>WEAPON LAWS</td>\n",
       "      <td>2016-10-12</td>\n",
       "      <td>Wednesday</td>\n",
       "      <td>BAYVIEW</td>\n",
       "      <td>-122.377002</td>\n",
       "      <td>37.731011</td>\n",
       "    </tr>\n",
       "    <tr>\n",
       "      <th>3</th>\n",
       "      <td>HARBOR RD / NORTHRIDGE RD</td>\n",
       "      <td>OTHER OFFENSES</td>\n",
       "      <td>2016-10-12</td>\n",
       "      <td>Wednesday</td>\n",
       "      <td>BAYVIEW</td>\n",
       "      <td>-122.377002</td>\n",
       "      <td>37.731011</td>\n",
       "    </tr>\n",
       "    <tr>\n",
       "      <th>4</th>\n",
       "      <td>HARBOR RD / NORTHRIDGE RD</td>\n",
       "      <td>WEAPON LAWS</td>\n",
       "      <td>2016-10-12</td>\n",
       "      <td>Wednesday</td>\n",
       "      <td>BAYVIEW</td>\n",
       "      <td>-122.377002</td>\n",
       "      <td>37.731011</td>\n",
       "    </tr>\n",
       "  </tbody>\n",
       "</table>\n",
       "</div>"
      ],
      "text/plain": [
       "                     address        category       date  dayofweek  \\\n",
       "0      1900 Block of 15TH ST       VANDALISM 2016-10-12  Wednesday   \n",
       "1         EDDY ST / JONES ST    NON-CRIMINAL 2016-10-12  Wednesday   \n",
       "2  HARBOR RD / NORTHRIDGE RD     WEAPON LAWS 2016-10-12  Wednesday   \n",
       "3  HARBOR RD / NORTHRIDGE RD  OTHER OFFENSES 2016-10-12  Wednesday   \n",
       "4  HARBOR RD / NORTHRIDGE RD     WEAPON LAWS 2016-10-12  Wednesday   \n",
       "\n",
       "   pddistrict           x          y  \n",
       "0     MISSION -122.427143  37.766176  \n",
       "1  TENDERLOIN -122.412597  37.783932  \n",
       "2     BAYVIEW -122.377002  37.731011  \n",
       "3     BAYVIEW -122.377002  37.731011  \n",
       "4     BAYVIEW -122.377002  37.731011  "
      ]
     },
     "execution_count": 6,
     "metadata": {},
     "output_type": "execute_result"
    }
   ],
   "source": [
    "sf.head()"
   ]
  },
  {
   "cell_type": "code",
   "execution_count": 7,
   "metadata": {
    "collapsed": false
   },
   "outputs": [],
   "source": [
    "sf['date'] = pd.to_datetime(sf['date']) # i converted into numbers"
   ]
  },
  {
   "cell_type": "code",
   "execution_count": 8,
   "metadata": {
    "collapsed": false
   },
   "outputs": [],
   "source": [
    "sf1 = sf[(sf.date > '2015-01-01') & (sf.date <'2015-12-31')] # to choose the year of 2015."
   ]
  },
  {
   "cell_type": "code",
   "execution_count": 92,
   "metadata": {
    "collapsed": false
   },
   "outputs": [
    {
     "data": {
      "text/plain": [
       "LARCENY/THEFT     41832\n",
       "OTHER OFFENSES    20241\n",
       "NON-CRIMINAL      18984\n",
       "ASSAULT           13007\n",
       "VEHICLE THEFT      7908\n",
       "Name: category, dtype: int64"
      ]
     },
     "execution_count": 92,
     "metadata": {},
     "output_type": "execute_result"
    }
   ],
   "source": [
    "sf1.category.value_counts().head()"
   ]
  },
  {
   "cell_type": "code",
   "execution_count": 86,
   "metadata": {
    "collapsed": false
   },
   "outputs": [
    {
     "data": {
      "text/plain": [
       "Friday       23813\n",
       "Saturday     22884\n",
       "Wednesday    22417\n",
       "Tuesday      21802\n",
       "Monday       21755\n",
       "Thursday     21479\n",
       "Sunday       21288\n",
       "Name: dayofweek, dtype: int64"
      ]
     },
     "execution_count": 86,
     "metadata": {},
     "output_type": "execute_result"
    }
   ],
   "source": [
    "sf1.dayofweek.value_counts()"
   ]
  },
  {
   "cell_type": "code",
   "execution_count": 79,
   "metadata": {
    "collapsed": false
   },
   "outputs": [
    {
     "data": {
      "text/plain": [
       "<matplotlib.text.Text at 0x7ff7a2d230d0>"
      ]
     },
     "execution_count": 79,
     "metadata": {},
     "output_type": "execute_result"
    },
    {
     "data": {
      "image/png": "[encoded data removed]",
      "text/plain": [
       "<matplotlib.figure.Figure at 0x7ff7a0330f90>"
      ]
     },
     "metadata": {},
     "output_type": "display_data"
    }
   ],
   "source": [
    "ax = plt.figure(figsize=(10,10))\n",
    "ax = ((sf1['category'].groupby([sf1['date'].dt.weekday, sf1['dayofweek']]).count())).plot(kind=\"bar\", \n",
    "                                                                                         color='Gold',\n",
    "                                                                                         alpha=0.5, legend = False)\n",
    "\n",
    "ax.xaxis.set_ticklabels(('Monday', 'Tuesday', 'Wedneday','Thurday', 'Friday', 'Saturday', 'Sunday'), fontsize=15)\n",
    "ax.yaxis.set_ticklabels(('0', '5,000', '10,000', '15,000','20,000','25,000'), fontsize=15)\n",
    "ax.set_xlabel('Days of the Week', size =20)\n",
    "ax.set_ylabel('Number of Felonies', size = 20)\n",
    "ax.set_title('Number of Felonies per day in 2015', size =25)"
   ]
  },
  {
   "cell_type": "markdown",
   "metadata": {},
   "source": [
    "## Figure 1. Histogram of Felonies by day of the week in San Francisco in the year 2015.\n",
    "\n",
    "It can be seen that the crime in San Francisco in 2015 was very uniform around 21,000 felonies. There is a slightly increment on the Weekend (Friday: 23,813, Saturday: 22884). "
   ]
  }
 ],
 "metadata": {
  "kernelspec": {
   "display_name": "PUI2016_Python2",
   "language": "python",
   "name": "pui2016_python2"
  },
  "language_info": {
   "codemirror_mode": {
    "name": "ipython",
    "version": 2
   },
   "file_extension": ".py",
   "mimetype": "text/x-python",
   "name": "python",
   "nbconvert_exporter": "python",
   "pygments_lexer": "ipython2",
   "version": "2.7.12"
  }
 },
 "nbformat": 4,
 "nbformat_minor": 0
}
