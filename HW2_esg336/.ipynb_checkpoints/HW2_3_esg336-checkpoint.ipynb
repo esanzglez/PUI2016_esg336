{
 "cells": [
  {
   "cell_type": "markdown",
   "metadata": {},
   "source": [
    "## Assigment 3: Read CSV files with pandas"
   ]
  },
  {
   "cell_type": "code",
   "execution_count": 1,
   "metadata": {
    "collapsed": false
   },
   "outputs": [
    {
     "name": "stdout",
     "output_type": "stream",
     "text": [
      "Populating the interactive namespace from numpy and matplotlib\n"
     ]
    }
   ],
   "source": [
    "from __future__ import print_function\n",
    "import os\n",
    "import sys\n",
    "import pandas as pd\n",
    "import pylab as pl\n",
    "%pylab inline"
   ]
  },
  {
   "cell_type": "code",
   "execution_count": 2,
   "metadata": {
    "collapsed": false
   },
   "outputs": [
    {
     "name": "stdout",
     "output_type": "stream",
     "text": [
      "/gws/open/NYCOpenData/nycopendata/data\n"
     ]
    }
   ],
   "source": [
    "DFData=os.getenv('DFDATA')\n",
    "print (DFData)"
   ]
  },
  {
   "cell_type": "code",
   "execution_count": 3,
   "metadata": {
    "collapsed": false
   },
   "outputs": [
    {
     "data": {
      "text/html": [
       "<div>\n",
       "<table border=\"1\" class=\"dataframe\">\n",
       "  <thead>\n",
       "    <tr style=\"text-align: right;\">\n",
       "      <th></th>\n",
       "      <th>Borough</th>\n",
       "      <th>Grade</th>\n",
       "      <th>Year</th>\n",
       "      <th>Category</th>\n",
       "      <th>Number Tested</th>\n",
       "      <th>Mean Scale Score</th>\n",
       "      <th>Level 1 #</th>\n",
       "      <th>Level 1 %</th>\n",
       "      <th>Level 2 #</th>\n",
       "      <th>Level 2 %</th>\n",
       "      <th>Level 3 #</th>\n",
       "      <th>Level 3 %</th>\n",
       "      <th>Level 4 #</th>\n",
       "      <th>Level 4 %</th>\n",
       "      <th>Level 3+4 #</th>\n",
       "      <th>Level 3+4 %</th>\n",
       "    </tr>\n",
       "  </thead>\n",
       "  <tbody>\n",
       "    <tr>\n",
       "      <th>0</th>\n",
       "      <td>BRONX</td>\n",
       "      <td>3</td>\n",
       "      <td>2006</td>\n",
       "      <td>ELL</td>\n",
       "      <td>766</td>\n",
       "      <td>618</td>\n",
       "      <td>345</td>\n",
       "      <td>45%</td>\n",
       "      <td>273</td>\n",
       "      <td>35.6%</td>\n",
       "      <td>147</td>\n",
       "      <td>19.2%</td>\n",
       "      <td>1</td>\n",
       "      <td>0.1%</td>\n",
       "      <td>148</td>\n",
       "      <td>19.3%</td>\n",
       "    </tr>\n",
       "    <tr>\n",
       "      <th>1</th>\n",
       "      <td>BRONX</td>\n",
       "      <td>3</td>\n",
       "      <td>2006</td>\n",
       "      <td>EP</td>\n",
       "      <td>12530</td>\n",
       "      <td>652</td>\n",
       "      <td>1809</td>\n",
       "      <td>14.4%</td>\n",
       "      <td>4184</td>\n",
       "      <td>33.4%</td>\n",
       "      <td>6200</td>\n",
       "      <td>49.5%</td>\n",
       "      <td>337</td>\n",
       "      <td>2.7%</td>\n",
       "      <td>6537</td>\n",
       "      <td>52.2%</td>\n",
       "    </tr>\n",
       "    <tr>\n",
       "      <th>2</th>\n",
       "      <td>BRONX</td>\n",
       "      <td>3</td>\n",
       "      <td>2007</td>\n",
       "      <td>ELL</td>\n",
       "      <td>3143</td>\n",
       "      <td>626</td>\n",
       "      <td>1004</td>\n",
       "      <td>31.9%</td>\n",
       "      <td>1441</td>\n",
       "      <td>45.8%</td>\n",
       "      <td>693</td>\n",
       "      <td>22%</td>\n",
       "      <td>5</td>\n",
       "      <td>0.2%</td>\n",
       "      <td>698</td>\n",
       "      <td>22.2%</td>\n",
       "    </tr>\n",
       "    <tr>\n",
       "      <th>3</th>\n",
       "      <td>BRONX</td>\n",
       "      <td>3</td>\n",
       "      <td>2007</td>\n",
       "      <td>EP</td>\n",
       "      <td>12728</td>\n",
       "      <td>649</td>\n",
       "      <td>1930</td>\n",
       "      <td>15.2%</td>\n",
       "      <td>4423</td>\n",
       "      <td>34.8%</td>\n",
       "      <td>5948</td>\n",
       "      <td>46.7%</td>\n",
       "      <td>427</td>\n",
       "      <td>3.4%</td>\n",
       "      <td>6375</td>\n",
       "      <td>50.1%</td>\n",
       "    </tr>\n",
       "    <tr>\n",
       "      <th>4</th>\n",
       "      <td>BRONX</td>\n",
       "      <td>3</td>\n",
       "      <td>2008</td>\n",
       "      <td>ELL</td>\n",
       "      <td>3092</td>\n",
       "      <td>631</td>\n",
       "      <td>764</td>\n",
       "      <td>24.7%</td>\n",
       "      <td>1574</td>\n",
       "      <td>50.9%</td>\n",
       "      <td>728</td>\n",
       "      <td>23.5%</td>\n",
       "      <td>26</td>\n",
       "      <td>0.8%</td>\n",
       "      <td>754</td>\n",
       "      <td>24.4%</td>\n",
       "    </tr>\n",
       "  </tbody>\n",
       "</table>\n",
       "</div>"
      ],
      "text/plain": [
       "  Borough Grade  Year Category  Number Tested  Mean Scale Score  Level 1 #  \\\n",
       "0   BRONX     3  2006      ELL            766               618        345   \n",
       "1   BRONX     3  2006       EP          12530               652       1809   \n",
       "2   BRONX     3  2007      ELL           3143               626       1004   \n",
       "3   BRONX     3  2007       EP          12728               649       1930   \n",
       "4   BRONX     3  2008      ELL           3092               631        764   \n",
       "\n",
       "  Level 1 %  Level 2 # Level 2 %  Level 3 # Level 3 %  Level 4 # Level 4 %  \\\n",
       "0       45%        273     35.6%        147     19.2%          1      0.1%   \n",
       "1     14.4%       4184     33.4%       6200     49.5%        337      2.7%   \n",
       "2     31.9%       1441     45.8%        693       22%          5      0.2%   \n",
       "3     15.2%       4423     34.8%       5948     46.7%        427      3.4%   \n",
       "4     24.7%       1574     50.9%        728     23.5%         26      0.8%   \n",
       "\n",
       "   Level 3+4 # Level 3+4 %  \n",
       "0          148       19.3%  \n",
       "1         6537       52.2%  \n",
       "2          698       22.2%  \n",
       "3         6375       50.1%  \n",
       "4          754       24.4%  "
      ]
     },
     "execution_count": 3,
     "metadata": {},
     "output_type": "execute_result"
    }
   ],
   "source": [
    "data = pd.read_csv(DFData + \"/vn2t-jh2b/1414245685/vn2t-jh2b\")\n",
    "data.head()"
   ]
  },
  {
   "cell_type": "code",
   "execution_count": 4,
   "metadata": {
    "collapsed": false
   },
   "outputs": [],
   "source": [
    "data.columns\n",
    "data.drop([u'Borough', u'Grade', u'Year', u'Category', u'Level 1 #', u'Level 1 %', u'Level 2 #',\n",
    "       u'Level 2 %', u'Level 3 #', u'Level 3 %', u'Level 4 #', u'Level 4 %',\n",
    "       u'Level 3+4 #', u'Level 3+4 %'],axis=1, inplace= True)"
   ]
  },
  {
   "cell_type": "code",
   "execution_count": 5,
   "metadata": {
    "collapsed": false
   },
   "outputs": [
    {
     "data": {
      "text/html": [
       "<div>\n",
       "<table border=\"1\" class=\"dataframe\">\n",
       "  <thead>\n",
       "    <tr style=\"text-align: right;\">\n",
       "      <th></th>\n",
       "      <th>Number Tested</th>\n",
       "      <th>Mean Scale Score</th>\n",
       "    </tr>\n",
       "  </thead>\n",
       "  <tbody>\n",
       "    <tr>\n",
       "      <th>0</th>\n",
       "      <td>766</td>\n",
       "      <td>618</td>\n",
       "    </tr>\n",
       "    <tr>\n",
       "      <th>1</th>\n",
       "      <td>12530</td>\n",
       "      <td>652</td>\n",
       "    </tr>\n",
       "    <tr>\n",
       "      <th>2</th>\n",
       "      <td>3143</td>\n",
       "      <td>626</td>\n",
       "    </tr>\n",
       "    <tr>\n",
       "      <th>3</th>\n",
       "      <td>12728</td>\n",
       "      <td>649</td>\n",
       "    </tr>\n",
       "    <tr>\n",
       "      <th>4</th>\n",
       "      <td>3092</td>\n",
       "      <td>631</td>\n",
       "    </tr>\n",
       "  </tbody>\n",
       "</table>\n",
       "</div>"
      ],
      "text/plain": [
       "   Number Tested  Mean Scale Score\n",
       "0            766               618\n",
       "1          12530               652\n",
       "2           3143               626\n",
       "3          12728               649\n",
       "4           3092               631"
      ]
     },
     "execution_count": 5,
     "metadata": {},
     "output_type": "execute_result"
    }
   ],
   "source": [
    "data.head()"
   ]
  },
  {
   "cell_type": "code",
   "execution_count": 6,
   "metadata": {
    "collapsed": false
   },
   "outputs": [
    {
     "data": {
      "image/png": "[encoded data removed]",
      "text/plain": [
       "<matplotlib.figure.Figure at 0x7ff4605992d0>"
      ]
     },
     "metadata": {},
     "output_type": "display_data"
    }
   ],
   "source": [
    "data.plot('Number Tested','Mean Scale Score','scatter',figsize=(10,5),fontsize='15')\n",
    "#data.plot.scatter('Number Tested', 'Mean Scale Score',figsize=(10,5),fontsize='15')\n",
    "\n",
    "pl.xlabel('Number Tested',fontsize=10)\n",
    "pl.ylabel('Mean Scale Score',fontsize=10)\n",
    "pl.title('Number Tested Vs Mean Scale Score',fontsize=10)\n",
    "pl.xticks([-20000,0,20000,40000,60000,80000,100000,120000,140000],\n",
    "          [r'-20.000',r'0',r'20.000',r'40.000',r'80.000',r'100.000',r'120.000',r'140.000']\n",
    "          ,fontsize=10)\n",
    "pl.yticks(fontsize=10)\n",
    "pl.show()"
   ]
  },
  {
   "cell_type": "markdown",
   "metadata": {},
   "source": [
    "#### Figure 1: \n",
    "\n",
    "This figure is a representation of the Number of people Tested against the Mean Scale Score."
   ]
  }
 ],
 "metadata": {
  "kernelspec": {
   "display_name": "PUI2016_Python2",
   "language": "python",
   "name": "pui2016_python2"
  },
  "language_info": {
   "codemirror_mode": {
    "name": "ipython",
    "version": 2
   },
   "file_extension": ".py",
   "mimetype": "text/x-python",
   "name": "python",
   "nbconvert_exporter": "python",
   "pygments_lexer": "ipython2",
   "version": "2.7.12"
  }
 },
 "nbformat": 4,
 "nbformat_minor": 0
}
