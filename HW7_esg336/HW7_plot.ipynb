{
 "cells": [
  {
   "cell_type": "code",
   "execution_count": 1,
   "metadata": {
    "collapsed": false
   },
   "outputs": [
    {
     "name": "stderr",
     "output_type": "stream",
     "text": [
      "/opt/rh/anaconda/root/envs/PUI2016_Python2/lib/python2.7/site-packages/IPython/html.py:14: ShimWarning: The `IPython.html` package has been deprecated. You should import from `notebook` instead. `IPython.html.widgets` has moved to `ipywidgets`.\n",
      "  \"`IPython.html.widgets` has moved to `ipywidgets`.\", ShimWarning)\n"
     ]
    }
   ],
   "source": [
    "import numpy as np\n",
    "import pandas as pd\n",
    "import matplotlib as mpl\n",
    "import matplotlib.pyplot as plt\n",
    "import seaborn as sns\n",
    "import bokeh\n",
    "\n",
    "try:\n",
    "    # Python 3\n",
    "    from urllib.request import urlopen, Request\n",
    "except ImportError:\n",
    "    # Fallback for Python 2\n",
    "    from urllib2 import urlopen\n",
    "    \n",
    "%matplotlib inline"
   ]
  },
  {
   "cell_type": "code",
   "execution_count": 2,
   "metadata": {
    "collapsed": false
   },
   "outputs": [],
   "source": [
    "query = (\"https://data.sfgov.org/resource/cuks-n6tp.json\")\n",
    "raw_data = pd.read_json(query)"
   ]
  },
  {
   "cell_type": "code",
   "execution_count": 3,
   "metadata": {
    "collapsed": false
   },
   "outputs": [
    {
     "data": {
      "text/plain": [
       "Index([u':@computed_region_bh8s_q3mv', u':@computed_region_fyvs_ahh9',\n",
       "       u':@computed_region_p5aj_wyqh', u':@computed_region_rxqg_mtj9',\n",
       "       u':@computed_region_yftq_j783', u'address', u'category', u'date',\n",
       "       u'dayofweek', u'descript', u'incidntnum', u'location', u'pddistrict',\n",
       "       u'pdid', u'resolution', u'time', u'x', u'y'],\n",
       "      dtype='object')"
      ]
     },
     "execution_count": 3,
     "metadata": {},
     "output_type": "execute_result"
    }
   ],
   "source": [
    "raw_data.columns"
   ]
  },
  {
   "cell_type": "code",
   "execution_count": 4,
   "metadata": {
    "collapsed": true
   },
   "outputs": [],
   "source": [
    "sf = raw_data"
   ]
  },
  {
   "cell_type": "code",
   "execution_count": 5,
   "metadata": {
    "collapsed": false
   },
   "outputs": [],
   "source": [
    "sf = sf.drop ([u':@computed_region_bh8s_q3mv', u':@computed_region_fyvs_ahh9',\n",
    "       u':@computed_region_p5aj_wyqh', u':@computed_region_rxqg_mtj9',\n",
    "       u':@computed_region_yftq_j783', u'descript', u'incidntnum',\n",
    "       u'pdid', u'resolution', u'time',u'location'], axis = 1)"
   ]
  },
  {
   "cell_type": "code",
   "execution_count": 6,
   "metadata": {
    "collapsed": false
   },
   "outputs": [
    {
     "data": {
      "text/html": [
       "<div>\n",
       "<table border=\"1\" class=\"dataframe\">\n",
       "  <thead>\n",
       "    <tr style=\"text-align: right;\">\n",
       "      <th></th>\n",
       "      <th>address</th>\n",
       "      <th>category</th>\n",
       "      <th>date</th>\n",
       "      <th>dayofweek</th>\n",
       "      <th>pddistrict</th>\n",
       "      <th>x</th>\n",
       "      <th>y</th>\n",
       "    </tr>\n",
       "  </thead>\n",
       "  <tbody>\n",
       "    <tr>\n",
       "      <th>0</th>\n",
       "      <td>500 Block of BRANNAN ST</td>\n",
       "      <td>BURGLARY</td>\n",
       "      <td>2016-11-02</td>\n",
       "      <td>Wednesday</td>\n",
       "      <td>SOUTHERN</td>\n",
       "      <td>-122.397616</td>\n",
       "      <td>37.777392</td>\n",
       "    </tr>\n",
       "    <tr>\n",
       "      <th>1</th>\n",
       "      <td>2300 Block of BRYANT ST</td>\n",
       "      <td>WARRANTS</td>\n",
       "      <td>2016-11-02</td>\n",
       "      <td>Wednesday</td>\n",
       "      <td>MISSION</td>\n",
       "      <td>-122.409592</td>\n",
       "      <td>37.756776</td>\n",
       "    </tr>\n",
       "    <tr>\n",
       "      <th>2</th>\n",
       "      <td>800 Block of BRYANT ST</td>\n",
       "      <td>VANDALISM</td>\n",
       "      <td>2016-11-02</td>\n",
       "      <td>Wednesday</td>\n",
       "      <td>SOUTHERN</td>\n",
       "      <td>-122.403405</td>\n",
       "      <td>37.775421</td>\n",
       "    </tr>\n",
       "    <tr>\n",
       "      <th>3</th>\n",
       "      <td>GENEVA AV / HOWTH ST</td>\n",
       "      <td>OTHER OFFENSES</td>\n",
       "      <td>2016-11-02</td>\n",
       "      <td>Wednesday</td>\n",
       "      <td>TARAVAL</td>\n",
       "      <td>-122.450118</td>\n",
       "      <td>37.722082</td>\n",
       "    </tr>\n",
       "    <tr>\n",
       "      <th>4</th>\n",
       "      <td>GENEVA AV / MISSION ST</td>\n",
       "      <td>OTHER OFFENSES</td>\n",
       "      <td>2016-11-02</td>\n",
       "      <td>Wednesday</td>\n",
       "      <td>INGLESIDE</td>\n",
       "      <td>-122.441018</td>\n",
       "      <td>37.716459</td>\n",
       "    </tr>\n",
       "  </tbody>\n",
       "</table>\n",
       "</div>"
      ],
      "text/plain": [
       "                   address        category       date  dayofweek pddistrict  \\\n",
       "0  500 Block of BRANNAN ST        BURGLARY 2016-11-02  Wednesday   SOUTHERN   \n",
       "1  2300 Block of BRYANT ST        WARRANTS 2016-11-02  Wednesday    MISSION   \n",
       "2   800 Block of BRYANT ST       VANDALISM 2016-11-02  Wednesday   SOUTHERN   \n",
       "3     GENEVA AV / HOWTH ST  OTHER OFFENSES 2016-11-02  Wednesday    TARAVAL   \n",
       "4   GENEVA AV / MISSION ST  OTHER OFFENSES 2016-11-02  Wednesday  INGLESIDE   \n",
       "\n",
       "            x          y  \n",
       "0 -122.397616  37.777392  \n",
       "1 -122.409592  37.756776  \n",
       "2 -122.403405  37.775421  \n",
       "3 -122.450118  37.722082  \n",
       "4 -122.441018  37.716459  "
      ]
     },
     "execution_count": 6,
     "metadata": {},
     "output_type": "execute_result"
    }
   ],
   "source": [
    "sf.head()"
   ]
  },
  {
   "cell_type": "code",
   "execution_count": 7,
   "metadata": {
    "collapsed": false
   },
   "outputs": [],
   "source": [
    "sf['date'] = pd.to_datetime(sf['date']) # i converted into numbers"
   ]
  },
  {
   "cell_type": "code",
   "execution_count": 14,
   "metadata": {
    "collapsed": false
   },
   "outputs": [],
   "source": [
    "sf1 = sf[(sf.date > '2015-01-01')]"
   ]
  },
  {
   "cell_type": "code",
   "execution_count": 16,
   "metadata": {
    "collapsed": false
   },
   "outputs": [
    {
     "data": {
      "text/html": [
       "<div>\n",
       "<table border=\"1\" class=\"dataframe\">\n",
       "  <thead>\n",
       "    <tr style=\"text-align: right;\">\n",
       "      <th></th>\n",
       "      <th>address</th>\n",
       "      <th>category</th>\n",
       "      <th>date</th>\n",
       "      <th>dayofweek</th>\n",
       "      <th>pddistrict</th>\n",
       "      <th>x</th>\n",
       "      <th>y</th>\n",
       "    </tr>\n",
       "  </thead>\n",
       "  <tbody>\n",
       "    <tr>\n",
       "      <th>0</th>\n",
       "      <td>500 Block of BRANNAN ST</td>\n",
       "      <td>BURGLARY</td>\n",
       "      <td>2016-11-02</td>\n",
       "      <td>Wednesday</td>\n",
       "      <td>SOUTHERN</td>\n",
       "      <td>-122.397616</td>\n",
       "      <td>37.777392</td>\n",
       "    </tr>\n",
       "    <tr>\n",
       "      <th>1</th>\n",
       "      <td>2300 Block of BRYANT ST</td>\n",
       "      <td>WARRANTS</td>\n",
       "      <td>2016-11-02</td>\n",
       "      <td>Wednesday</td>\n",
       "      <td>MISSION</td>\n",
       "      <td>-122.409592</td>\n",
       "      <td>37.756776</td>\n",
       "    </tr>\n",
       "    <tr>\n",
       "      <th>2</th>\n",
       "      <td>800 Block of BRYANT ST</td>\n",
       "      <td>VANDALISM</td>\n",
       "      <td>2016-11-02</td>\n",
       "      <td>Wednesday</td>\n",
       "      <td>SOUTHERN</td>\n",
       "      <td>-122.403405</td>\n",
       "      <td>37.775421</td>\n",
       "    </tr>\n",
       "    <tr>\n",
       "      <th>3</th>\n",
       "      <td>GENEVA AV / HOWTH ST</td>\n",
       "      <td>OTHER OFFENSES</td>\n",
       "      <td>2016-11-02</td>\n",
       "      <td>Wednesday</td>\n",
       "      <td>TARAVAL</td>\n",
       "      <td>-122.450118</td>\n",
       "      <td>37.722082</td>\n",
       "    </tr>\n",
       "    <tr>\n",
       "      <th>4</th>\n",
       "      <td>GENEVA AV / MISSION ST</td>\n",
       "      <td>OTHER OFFENSES</td>\n",
       "      <td>2016-11-02</td>\n",
       "      <td>Wednesday</td>\n",
       "      <td>INGLESIDE</td>\n",
       "      <td>-122.441018</td>\n",
       "      <td>37.716459</td>\n",
       "    </tr>\n",
       "  </tbody>\n",
       "</table>\n",
       "</div>"
      ],
      "text/plain": [
       "                   address        category       date  dayofweek pddistrict  \\\n",
       "0  500 Block of BRANNAN ST        BURGLARY 2016-11-02  Wednesday   SOUTHERN   \n",
       "1  2300 Block of BRYANT ST        WARRANTS 2016-11-02  Wednesday    MISSION   \n",
       "2   800 Block of BRYANT ST       VANDALISM 2016-11-02  Wednesday   SOUTHERN   \n",
       "3     GENEVA AV / HOWTH ST  OTHER OFFENSES 2016-11-02  Wednesday    TARAVAL   \n",
       "4   GENEVA AV / MISSION ST  OTHER OFFENSES 2016-11-02  Wednesday  INGLESIDE   \n",
       "\n",
       "            x          y  \n",
       "0 -122.397616  37.777392  \n",
       "1 -122.409592  37.756776  \n",
       "2 -122.403405  37.775421  \n",
       "3 -122.450118  37.722082  \n",
       "4 -122.441018  37.716459  "
      ]
     },
     "execution_count": 16,
     "metadata": {},
     "output_type": "execute_result"
    }
   ],
   "source": [
    "sf1.head()"
   ]
  },
  {
   "cell_type": "code",
   "execution_count": 17,
   "metadata": {
    "collapsed": false
   },
   "outputs": [
    {
     "data": {
      "text/plain": [
       "Monday       333\n",
       "Tuesday      286\n",
       "Wednesday    261\n",
       "Sunday       120\n",
       "Name: dayofweek, dtype: int64"
      ]
     },
     "execution_count": 17,
     "metadata": {},
     "output_type": "execute_result"
    }
   ],
   "source": [
    "sf1.dayofweek.value_counts()"
   ]
  },
  {
   "cell_type": "code",
   "execution_count": 18,
   "metadata": {
    "collapsed": false
   },
   "outputs": [
    {
     "data": {
      "text/plain": [
       "<matplotlib.text.Text at 0x7f1e6d8d7610>"
      ]
     },
     "execution_count": 18,
     "metadata": {},
     "output_type": "execute_result"
    },
    {
     "data": {
      "image/png": "[encoded data removed]",
      "text/plain": [
       "<matplotlib.figure.Figure at 0x7f1e6d94e9d0>"
      ]
     },
     "metadata": {},
     "output_type": "display_data"
    }
   ],
   "source": [
    "ax = plt.figure(figsize=(10,10))\n",
    "ax = ((sf1['category'].groupby([sf1['date'].dt.weekday, sf1['dayofweek']]).count())).plot(kind=\"bar\", \n",
    "                                                                                         color='Gold',\n",
    "                                                                                         alpha=0.5, legend = False)\n",
    "\n",
    "ax.xaxis.set_ticklabels(('Monday', 'Tuesday', 'Wedneday','Thurday', 'Friday', 'Saturday', 'Sunday'), fontsize=15)\n",
    "ax.yaxis.set_ticklabels(('0', '5,000', '10,000', '15,000','20,000','25,000'), fontsize=15)\n",
    "ax.set_xlabel('Days of the Week', size =20)\n",
    "ax.set_ylabel('Number of Felonies', size = 20)\n",
    "ax.set_title('Number of Felonies per day in 2015', size =25)"
   ]
  },
  {
   "cell_type": "code",
   "execution_count": null,
   "metadata": {
    "collapsed": true
   },
   "outputs": [],
   "source": []
  }
 ],
 "metadata": {
  "kernelspec": {
   "display_name": "PUI2016_Python2",
   "language": "python",
   "name": "pui2016_python2"
  },
  "language_info": {
   "codemirror_mode": {
    "name": "ipython",
    "version": 2
   },
   "file_extension": ".py",
   "mimetype": "text/x-python",
   "name": "python",
   "nbconvert_exporter": "python",
   "pygments_lexer": "ipython2",
   "version": "2.7.12"
  }
 },
 "nbformat": 4,
 "nbformat_minor": 0
}
