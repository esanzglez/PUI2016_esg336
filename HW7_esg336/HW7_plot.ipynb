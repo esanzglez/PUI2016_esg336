{
 "cells": [
  {
   "cell_type": "code",
   "execution_count": 4,
   "metadata": {
    "collapsed": false
   },
   "outputs": [],
   "source": [
    "import numpy as np\n",
    "import pandas as pd\n",
    "import matplotlib as mpl\n",
    "import matplotlib.pyplot as plt\n",
    "import seaborn as sns\n",
    "import bokeh\n",
    "\n",
    "try:\n",
    "    # Python 3\n",
    "    from urllib.request import urlopen, Request\n",
    "except ImportError:\n",
    "    # Fallback for Python 2\n",
    "    from urllib2 import urlopen\n",
    "    \n",
    "%matplotlib inline"
   ]
  },
  {
   "cell_type": "code",
   "execution_count": null,
   "metadata": {
    "collapsed": false
   },
   "outputs": [],
   "source": [
    "query = (\"https://data.sfgov.org/resource/cuks-n6tp.json\")\n",
    "raw_data = pd.read_json(query)"
   ]
  },
  {
   "cell_type": "code",
   "execution_count": null,
   "metadata": {
    "collapsed": false
   },
   "outputs": [],
   "source": [
    "raw_data.columns"
   ]
  },
  {
   "cell_type": "code",
   "execution_count": null,
   "metadata": {
    "collapsed": true
   },
   "outputs": [],
   "source": [
    "sf = raw_data"
   ]
  },
  {
   "cell_type": "code",
   "execution_count": null,
   "metadata": {
    "collapsed": false
   },
   "outputs": [],
   "source": [
    "sf = sf.drop ([u':@computed_region_bh8s_q3mv', u':@computed_region_fyvs_ahh9',\n",
    "       u':@computed_region_p5aj_wyqh', u':@computed_region_rxqg_mtj9',\n",
    "       u':@computed_region_yftq_j783', u'descript', u'incidntnum',\n",
    "       u'pdid', u'resolution', u'time',u'location'], axis = 1)"
   ]
  },
  {
   "cell_type": "code",
   "execution_count": null,
   "metadata": {
    "collapsed": false
   },
   "outputs": [],
   "source": [
    "sf.head()"
   ]
  },
  {
   "cell_type": "code",
   "execution_count": null,
   "metadata": {
    "collapsed": false
   },
   "outputs": [],
   "source": [
    "sf['date'] = pd.to_datetime(sf['date']) # i converted into numbers"
   ]
  },
  {
   "cell_type": "code",
   "execution_count": null,
   "metadata": {
    "collapsed": false
   },
   "outputs": [],
   "source": [
    "sf1 = sf[(sf.date > '2015-01-01') & (sf.date <'2015-12-31')] # to choose the year of 2015."
   ]
  },
  {
   "cell_type": "code",
   "execution_count": null,
   "metadata": {
    "collapsed": false
   },
   "outputs": [],
   "source": [
    "sf1.category.value_counts().head()"
   ]
  },
  {
   "cell_type": "code",
   "execution_count": null,
   "metadata": {
    "collapsed": false
   },
   "outputs": [],
   "source": [
    "sf1.dayofweek.value_counts()"
   ]
  },
  {
   "cell_type": "code",
   "execution_count": null,
   "metadata": {
    "collapsed": false
   },
   "outputs": [],
   "source": [
    "ax = plt.figure(figsize=(10,10))\n",
    "ax = ((sf1['category'].groupby([sf1['date'].dt.weekday, sf1['dayofweek']]).count())).plot(kind=\"bar\", \n",
    "                                                                                         color='Gold',\n",
    "                                                                                         alpha=0.5, legend = False)\n",
    "\n",
    "ax.xaxis.set_ticklabels(('Monday', 'Tuesday', 'Wedneday','Thurday', 'Friday', 'Saturday', 'Sunday'), fontsize=15)\n",
    "ax.yaxis.set_ticklabels(('0', '5,000', '10,000', '15,000','20,000','25,000'), fontsize=15)\n",
    "ax.set_xlabel('Days of the Week', size =20)\n",
    "ax.set_ylabel('Number of Felonies', size = 20)\n",
    "ax.set_title('Number of Felonies per day in 2015', size =25)"
   ]
  }
 ],
 "metadata": {
  "kernelspec": {
   "display_name": "PUI2016_Python2",
   "language": "python",
   "name": "pui2016_python2"
  },
  "language_info": {
   "codemirror_mode": {
    "name": "ipython",
    "version": 2
   },
   "file_extension": ".py",
   "mimetype": "text/x-python",
   "name": "python",
   "nbconvert_exporter": "python",
   "pygments_lexer": "ipython2",
   "version": "2.7.12"
  }
 },
 "nbformat": 4,
 "nbformat_minor": 0
}
