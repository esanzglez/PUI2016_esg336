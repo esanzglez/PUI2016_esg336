{
 "cells": [
  {
   "cell_type": "markdown",
   "metadata": {},
   "source": [
    "# Working with Data - Computer Lab for Guest Lecture Julia Lane\n",
    "\n",
    "In this computer lab we will learn more more details and practice data work to enhance the content of the lecture presented by Julia Lane on responsible data use. We will address a research question, think about data and measurement errors, and manipulate data. \n",
    "\n",
    "OUTLINE: \n",
    "1. Define a research question \n",
    "2. Think about what data are available \n",
    "3. Think about possible measurement errors \n",
    "4. Think about the interpretation of your results \n",
    "5. Inform your results by linking datasets "
   ]
  },
  {
   "cell_type": "markdown",
   "metadata": {
    "raw_mimetype": "text/markdown"
   },
   "source": [
    "# 1. Define a reserach question\n",
    "Which Community Districts in NYC show the highest number of complaints?\n",
    "\n",
    "# 2. Think about what data are available\n",
    "Find suitable data by searching the CUSP Data Catalog https://datahub.cusp.nyu.edu/catalog. You can use Urban Profiler to investigate the Metadata associated with each dataset. Using this tool will help you to decide which attributes of the data you need to answer your question so you don't have to load the entire dataset. "
   ]
  },
  {
   "cell_type": "code",
   "execution_count": 1,
   "metadata": {
    "collapsed": false
   },
   "outputs": [],
   "source": [
    "from __future__ import print_function, division\n",
    "\n",
    "import os\n",
    "import pandas as pd\n",
    "import numpy as np\n",
    "import re"
   ]
  },
  {
   "cell_type": "code",
   "execution_count": 2,
   "metadata": {
    "collapsed": false
   },
   "outputs": [
    {
     "data": {
      "text/plain": [
       "'/home/cusp/esg336/PUIdata'"
      ]
     },
     "execution_count": 2,
     "metadata": {},
     "output_type": "execute_result"
    }
   ],
   "source": [
    "PUIdata = os.getenv('PUIDATA')\n",
    "PUIdata"
   ]
  },
  {
   "cell_type": "code",
   "execution_count": 3,
   "metadata": {
    "collapsed": false
   },
   "outputs": [
    {
     "name": "stderr",
     "output_type": "stream",
     "text": [
      "/opt/rh/anaconda/root/envs/PUI2016_Python2/lib/python2.7/site-packages/IPython/core/interactiveshell.py:2717: DtypeWarning: Columns (8) have mixed types. Specify dtype option on import or set low_memory=False.\n",
      "  interactivity=interactivity, compiler=compiler, result=result)\n"
     ]
    }
   ],
   "source": [
    "data_311 = pd.read_csv('/projects/open/NYCOpenData/nycopendata/data/erm2-nwe9/1446832678/erm2-nwe9', \n",
    "            usecols = ['Agency', 'Unique Key','Complaint Type','Incident Zip','Incident Address',\n",
    "                       'Community Board', 'Borough','X Coordinate (State Plane)','Y Coordinate (State Plane)'])"
   ]
  },
  {
   "cell_type": "markdown",
   "metadata": {},
   "source": [
    "# 3. Think about possible measurement errors\n",
    "Do you see any problems regarding possible measurement error? Think about who is represented in the data, ommissions, duplications, content error, missing data, etc. "
   ]
  },
  {
   "cell_type": "markdown",
   "metadata": {
    "collapsed": false
   },
   "source": [
    "** Check if all Boroughs and Community Districts are represented in the Data**"
   ]
  },
  {
   "cell_type": "markdown",
   "metadata": {},
   "source": [
    "It can be check of several ways.It can be call unique values or grouping. One is seeing grouping the Community Board and it will be seen how many Community board and whic ones are represented:"
   ]
  },
  {
   "cell_type": "code",
   "execution_count": 4,
   "metadata": {
    "collapsed": false
   },
   "outputs": [],
   "source": [
    "Borough = data_311.groupby(by = 'Borough').count()"
   ]
  },
  {
   "cell_type": "code",
   "execution_count": 5,
   "metadata": {
    "collapsed": false
   },
   "outputs": [
    {
     "data": {
      "text/html": [
       "<div>\n",
       "<table border=\"1\" class=\"dataframe\">\n",
       "  <thead>\n",
       "    <tr style=\"text-align: right;\">\n",
       "      <th></th>\n",
       "      <th>Unique Key</th>\n",
       "      <th>Agency</th>\n",
       "      <th>Complaint Type</th>\n",
       "      <th>Incident Zip</th>\n",
       "      <th>Incident Address</th>\n",
       "      <th>Community Board</th>\n",
       "      <th>X Coordinate (State Plane)</th>\n",
       "      <th>Y Coordinate (State Plane)</th>\n",
       "    </tr>\n",
       "    <tr>\n",
       "      <th>Borough</th>\n",
       "      <th></th>\n",
       "      <th></th>\n",
       "      <th></th>\n",
       "      <th></th>\n",
       "      <th></th>\n",
       "      <th></th>\n",
       "      <th></th>\n",
       "      <th></th>\n",
       "    </tr>\n",
       "  </thead>\n",
       "  <tbody>\n",
       "    <tr>\n",
       "      <th>BRONX</th>\n",
       "      <td>1665625</td>\n",
       "      <td>1665625</td>\n",
       "      <td>1665625</td>\n",
       "      <td>1550561</td>\n",
       "      <td>1400597</td>\n",
       "      <td>1665625</td>\n",
       "      <td>1539848</td>\n",
       "      <td>1539848</td>\n",
       "    </tr>\n",
       "    <tr>\n",
       "      <th>BROOKLYN</th>\n",
       "      <td>2831932</td>\n",
       "      <td>2831932</td>\n",
       "      <td>2831932</td>\n",
       "      <td>2709977</td>\n",
       "      <td>2316768</td>\n",
       "      <td>2831932</td>\n",
       "      <td>2689214</td>\n",
       "      <td>2689214</td>\n",
       "    </tr>\n",
       "    <tr>\n",
       "      <th>MANHATTAN</th>\n",
       "      <td>1900005</td>\n",
       "      <td>1900005</td>\n",
       "      <td>1900005</td>\n",
       "      <td>1756226</td>\n",
       "      <td>1415628</td>\n",
       "      <td>1900005</td>\n",
       "      <td>1728724</td>\n",
       "      <td>1728724</td>\n",
       "    </tr>\n",
       "    <tr>\n",
       "      <th>QUEENS</th>\n",
       "      <td>2189760</td>\n",
       "      <td>2189760</td>\n",
       "      <td>2189760</td>\n",
       "      <td>2070284</td>\n",
       "      <td>1657981</td>\n",
       "      <td>2189760</td>\n",
       "      <td>2054341</td>\n",
       "      <td>2054341</td>\n",
       "    </tr>\n",
       "    <tr>\n",
       "      <th>STATEN ISLAND</th>\n",
       "      <td>490998</td>\n",
       "      <td>490998</td>\n",
       "      <td>490998</td>\n",
       "      <td>479297</td>\n",
       "      <td>362257</td>\n",
       "      <td>490998</td>\n",
       "      <td>476037</td>\n",
       "      <td>476037</td>\n",
       "    </tr>\n",
       "    <tr>\n",
       "      <th>Unspecified</th>\n",
       "      <td>1109446</td>\n",
       "      <td>1109446</td>\n",
       "      <td>1109446</td>\n",
       "      <td>827262</td>\n",
       "      <td>836829</td>\n",
       "      <td>1109446</td>\n",
       "      <td>820850</td>\n",
       "      <td>820850</td>\n",
       "    </tr>\n",
       "  </tbody>\n",
       "</table>\n",
       "</div>"
      ],
      "text/plain": [
       "               Unique Key   Agency  Complaint Type  Incident Zip  \\\n",
       "Borough                                                            \n",
       "BRONX             1665625  1665625         1665625       1550561   \n",
       "BROOKLYN          2831932  2831932         2831932       2709977   \n",
       "MANHATTAN         1900005  1900005         1900005       1756226   \n",
       "QUEENS            2189760  2189760         2189760       2070284   \n",
       "STATEN ISLAND      490998   490998          490998        479297   \n",
       "Unspecified       1109446  1109446         1109446        827262   \n",
       "\n",
       "               Incident Address  Community Board  X Coordinate (State Plane)  \\\n",
       "Borough                                                                        \n",
       "BRONX                   1400597          1665625                     1539848   \n",
       "BROOKLYN                2316768          2831932                     2689214   \n",
       "MANHATTAN               1415628          1900005                     1728724   \n",
       "QUEENS                  1657981          2189760                     2054341   \n",
       "STATEN ISLAND            362257           490998                      476037   \n",
       "Unspecified              836829          1109446                      820850   \n",
       "\n",
       "               Y Coordinate (State Plane)  \n",
       "Borough                                    \n",
       "BRONX                             1539848  \n",
       "BROOKLYN                          2689214  \n",
       "MANHATTAN                         1728724  \n",
       "QUEENS                            2054341  \n",
       "STATEN ISLAND                      476037  \n",
       "Unspecified                        820850  "
      ]
     },
     "execution_count": 5,
     "metadata": {},
     "output_type": "execute_result"
    }
   ],
   "source": [
    "Borough"
   ]
  },
  {
   "cell_type": "markdown",
   "metadata": {},
   "source": [
    "It can be seen that all the boroughs are represented. Let's explore the Community Boards"
   ]
  },
  {
   "cell_type": "code",
   "execution_count": 6,
   "metadata": {
    "collapsed": true
   },
   "outputs": [],
   "source": [
    "Community_Board = data_311.groupby(by = 'Community Board').count()"
   ]
  },
  {
   "cell_type": "code",
   "execution_count": 7,
   "metadata": {
    "collapsed": false
   },
   "outputs": [
    {
     "name": "stdout",
     "output_type": "stream",
     "text": [
      "The Community Boards represented in the data set are:\n",
      "0 Unspecified\n",
      "01 BRONX\n",
      "01 BROOKLYN\n",
      "01 MANHATTAN\n",
      "01 QUEENS\n",
      "01 STATEN ISLAND\n",
      "02 BRONX\n",
      "02 BROOKLYN\n",
      "02 MANHATTAN\n",
      "02 QUEENS\n",
      "02 STATEN ISLAND\n",
      "03 BRONX\n",
      "03 BROOKLYN\n",
      "03 MANHATTAN\n",
      "03 QUEENS\n",
      "03 STATEN ISLAND\n",
      "04 BRONX\n",
      "04 BROOKLYN\n",
      "04 MANHATTAN\n",
      "04 QUEENS\n",
      "05 BRONX\n",
      "05 BROOKLYN\n",
      "05 MANHATTAN\n",
      "05 QUEENS\n",
      "06 BRONX\n",
      "06 BROOKLYN\n",
      "06 MANHATTAN\n",
      "06 QUEENS\n",
      "07 BRONX\n",
      "07 BROOKLYN\n",
      "07 MANHATTAN\n",
      "07 QUEENS\n",
      "08 BRONX\n",
      "08 BROOKLYN\n",
      "08 MANHATTAN\n",
      "08 QUEENS\n",
      "09 BRONX\n",
      "09 BROOKLYN\n",
      "09 MANHATTAN\n",
      "09 QUEENS\n",
      "10 BRONX\n",
      "10 BROOKLYN\n",
      "10 MANHATTAN\n",
      "10 QUEENS\n",
      "11 BRONX\n",
      "11 BROOKLYN\n",
      "11 MANHATTAN\n",
      "11 QUEENS\n",
      "12 BRONX\n",
      "12 BROOKLYN\n",
      "12 MANHATTAN\n",
      "12 QUEENS\n",
      "13 BROOKLYN\n",
      "13 QUEENS\n",
      "14 BROOKLYN\n",
      "14 QUEENS\n",
      "15 BROOKLYN\n",
      "16 BROOKLYN\n",
      "17 BROOKLYN\n",
      "18 BROOKLYN\n",
      "26 BRONX\n",
      "27 BRONX\n",
      "28 BRONX\n",
      "55 BROOKLYN\n",
      "56 BROOKLYN\n",
      "64 MANHATTAN\n",
      "80 QUEENS\n",
      "81 QUEENS\n",
      "82 QUEENS\n",
      "83 QUEENS\n",
      "84 QUEENS\n",
      "95 STATEN ISLAND\n",
      "Unspecified BRONX\n",
      "Unspecified BROOKLYN\n",
      "Unspecified MANHATTAN\n",
      "Unspecified QUEENS\n",
      "Unspecified STATEN ISLAND\n"
     ]
    }
   ],
   "source": [
    "print ('The Community Boards represented in the data set are:')\n",
    "for i in Community_Board.index:\n",
    "    print (i)"
   ]
  },
  {
   "cell_type": "markdown",
   "metadata": {},
   "source": [
    "It can be seen that all the Community Boards are represented. Also It can be seen that there are some unspecified categories."
   ]
  },
  {
   "cell_type": "markdown",
   "metadata": {
    "collapsed": false
   },
   "source": [
    "** How many unique values do we have? **"
   ]
  },
  {
   "cell_type": "code",
   "execution_count": 8,
   "metadata": {
    "collapsed": false
   },
   "outputs": [],
   "source": [
    "Com_uniq = data_311['Community Board'].unique()"
   ]
  },
  {
   "cell_type": "code",
   "execution_count": 9,
   "metadata": {
    "collapsed": false
   },
   "outputs": [
    {
     "name": "stdout",
     "output_type": "stream",
     "text": [
      "There are 77 unique values of the Comunity Board\n"
     ]
    }
   ],
   "source": [
    "print ('There are {} unique values of the Comunity Board'.format(len(Com_uniq)))"
   ]
  },
  {
   "cell_type": "code",
   "execution_count": 10,
   "metadata": {
    "collapsed": false
   },
   "outputs": [],
   "source": [
    "# Why do we have so many? Some of them are unspecified, missing. Some might be invalid entries. \n",
    "# We should have 59 Community Districts."
   ]
  },
  {
   "cell_type": "markdown",
   "metadata": {
    "collapsed": true
   },
   "source": [
    "As it could be seen previously, the data set had some unspecified values and there should be some duplicates values."
   ]
  },
  {
   "cell_type": "markdown",
   "metadata": {},
   "source": [
    "There are 6 unspecified values so there are 12 more values that it should be understood . "
   ]
  },
  {
   "cell_type": "code",
   "execution_count": 11,
   "metadata": {
    "collapsed": true
   },
   "outputs": [],
   "source": [
    "# Check for duplicates? Are these plausible?"
   ]
  },
  {
   "cell_type": "code",
   "execution_count": 12,
   "metadata": {
    "collapsed": false
   },
   "outputs": [],
   "source": [
    "non_duplicates = data_311.drop_duplicates()"
   ]
  },
  {
   "cell_type": "code",
   "execution_count": 13,
   "metadata": {
    "collapsed": false
   },
   "outputs": [],
   "source": [
    "duplicates = len(data_311)-len(non_duplicates)"
   ]
  },
  {
   "cell_type": "code",
   "execution_count": 14,
   "metadata": {
    "collapsed": false
   },
   "outputs": [],
   "source": [
    "# What about missing values? Can you detect any patterns? "
   ]
  },
  {
   "cell_type": "markdown",
   "metadata": {},
   "source": [
    "The missing values can be detected in the following way:"
   ]
  },
  {
   "cell_type": "code",
   "execution_count": 15,
   "metadata": {
    "collapsed": false
   },
   "outputs": [],
   "source": [
    "missing_values = data_311[data_311['Community Board'] == '0 Unspecified']"
   ]
  },
  {
   "cell_type": "code",
   "execution_count": 16,
   "metadata": {
    "collapsed": false
   },
   "outputs": [
    {
     "data": {
      "text/html": [
       "<div>\n",
       "<table border=\"1\" class=\"dataframe\">\n",
       "  <thead>\n",
       "    <tr style=\"text-align: right;\">\n",
       "      <th></th>\n",
       "      <th>Unique Key</th>\n",
       "      <th>Agency</th>\n",
       "      <th>Complaint Type</th>\n",
       "      <th>Incident Zip</th>\n",
       "      <th>Incident Address</th>\n",
       "      <th>Community Board</th>\n",
       "      <th>Borough</th>\n",
       "      <th>X Coordinate (State Plane)</th>\n",
       "      <th>Y Coordinate (State Plane)</th>\n",
       "    </tr>\n",
       "  </thead>\n",
       "  <tbody>\n",
       "    <tr>\n",
       "      <th>1</th>\n",
       "      <td>31908754</td>\n",
       "      <td>CHALL</td>\n",
       "      <td>Opinion for the Mayor</td>\n",
       "      <td>NaN</td>\n",
       "      <td>NaN</td>\n",
       "      <td>0 Unspecified</td>\n",
       "      <td>Unspecified</td>\n",
       "      <td>NaN</td>\n",
       "      <td>NaN</td>\n",
       "    </tr>\n",
       "    <tr>\n",
       "      <th>4</th>\n",
       "      <td>31913310</td>\n",
       "      <td>HRA</td>\n",
       "      <td>Benefit Card Replacement</td>\n",
       "      <td>NaN</td>\n",
       "      <td>NaN</td>\n",
       "      <td>0 Unspecified</td>\n",
       "      <td>Unspecified</td>\n",
       "      <td>NaN</td>\n",
       "      <td>NaN</td>\n",
       "    </tr>\n",
       "    <tr>\n",
       "      <th>6</th>\n",
       "      <td>31912764</td>\n",
       "      <td>DPR</td>\n",
       "      <td>Agency Issues</td>\n",
       "      <td>NaN</td>\n",
       "      <td>NaN</td>\n",
       "      <td>0 Unspecified</td>\n",
       "      <td>Unspecified</td>\n",
       "      <td>NaN</td>\n",
       "      <td>NaN</td>\n",
       "    </tr>\n",
       "    <tr>\n",
       "      <th>70</th>\n",
       "      <td>31912598</td>\n",
       "      <td>CHALL</td>\n",
       "      <td>Opinion for the Mayor</td>\n",
       "      <td>NaN</td>\n",
       "      <td>NaN</td>\n",
       "      <td>0 Unspecified</td>\n",
       "      <td>Unspecified</td>\n",
       "      <td>NaN</td>\n",
       "      <td>NaN</td>\n",
       "    </tr>\n",
       "    <tr>\n",
       "      <th>72</th>\n",
       "      <td>31911630</td>\n",
       "      <td>CHALL</td>\n",
       "      <td>Opinion for the Mayor</td>\n",
       "      <td>NaN</td>\n",
       "      <td>NaN</td>\n",
       "      <td>0 Unspecified</td>\n",
       "      <td>Unspecified</td>\n",
       "      <td>NaN</td>\n",
       "      <td>NaN</td>\n",
       "    </tr>\n",
       "  </tbody>\n",
       "</table>\n",
       "</div>"
      ],
      "text/plain": [
       "    Unique Key Agency            Complaint Type Incident Zip Incident Address  \\\n",
       "1     31908754  CHALL     Opinion for the Mayor          NaN              NaN   \n",
       "4     31913310    HRA  Benefit Card Replacement          NaN              NaN   \n",
       "6     31912764    DPR             Agency Issues          NaN              NaN   \n",
       "70    31912598  CHALL     Opinion for the Mayor          NaN              NaN   \n",
       "72    31911630  CHALL     Opinion for the Mayor          NaN              NaN   \n",
       "\n",
       "   Community Board      Borough  X Coordinate (State Plane)  \\\n",
       "1    0 Unspecified  Unspecified                         NaN   \n",
       "4    0 Unspecified  Unspecified                         NaN   \n",
       "6    0 Unspecified  Unspecified                         NaN   \n",
       "70   0 Unspecified  Unspecified                         NaN   \n",
       "72   0 Unspecified  Unspecified                         NaN   \n",
       "\n",
       "    Y Coordinate (State Plane)  \n",
       "1                          NaN  \n",
       "4                          NaN  \n",
       "6                          NaN  \n",
       "70                         NaN  \n",
       "72                         NaN  "
      ]
     },
     "execution_count": 16,
     "metadata": {},
     "output_type": "execute_result"
    }
   ],
   "source": [
    "missing_values.head()"
   ]
  },
  {
   "cell_type": "code",
   "execution_count": 17,
   "metadata": {
    "collapsed": false
   },
   "outputs": [
    {
     "name": "stdout",
     "output_type": "stream",
     "text": [
      "The percentage of the missing values is : 10.89\n"
     ]
    }
   ],
   "source": [
    "print ('The percentage of the missing values is :',round((len (missing_values) /len(data_311)*100),2))"
   ]
  },
  {
   "cell_type": "code",
   "execution_count": 18,
   "metadata": {
    "collapsed": true
   },
   "outputs": [],
   "source": [
    "# Data Editing: Is it possible to replace missing values? Is it possible to use Complaint Type \n",
    "# to fill missings in Resolution Descriptor?"
   ]
  },
  {
   "cell_type": "code",
   "execution_count": 19,
   "metadata": {
    "collapsed": false
   },
   "outputs": [],
   "source": [
    "# Generate marker for unplausible Community Districts\n",
    "# How do these districts look like? "
   ]
  },
  {
   "cell_type": "code",
   "execution_count": 20,
   "metadata": {
    "collapsed": true
   },
   "outputs": [],
   "source": [
    "# Drop the marked districts"
   ]
  },
  {
   "cell_type": "code",
   "execution_count": 21,
   "metadata": {
    "collapsed": false
   },
   "outputs": [],
   "source": [
    "data_311['Marker'] = data_311['Community Board'].str.startswith('0 Unspecified') | data_311['Community Board'].str.startswith('Unspecified')"
   ]
  },
  {
   "cell_type": "code",
   "execution_count": 22,
   "metadata": {
    "collapsed": false
   },
   "outputs": [],
   "source": [
    "data_clean = data_311[(data_311['Marker'] == False)]"
   ]
  },
  {
   "cell_type": "code",
   "execution_count": 23,
   "metadata": {
    "collapsed": false
   },
   "outputs": [
    {
     "name": "stderr",
     "output_type": "stream",
     "text": [
      "/opt/rh/anaconda/root/envs/PUI2016_Python2/lib/python2.7/site-packages/ipykernel/__main__.py:1: SettingWithCopyWarning: \n",
      "A value is trying to be set on a copy of a slice from a DataFrame.\n",
      "Try using .loc[row_indexer,col_indexer] = value instead\n",
      "\n",
      "See the caveats in the documentation: http://pandas.pydata.org/pandas-docs/stable/indexing.html#indexing-view-versus-copy\n",
      "  if __name__ == '__main__':\n"
     ]
    }
   ],
   "source": [
    "data_clean['Marker'] = [int(i[:2]) > 18 for i in data_clean['Community Board']]"
   ]
  },
  {
   "cell_type": "code",
   "execution_count": 24,
   "metadata": {
    "collapsed": false
   },
   "outputs": [],
   "source": [
    "data_clean = data_clean[data_clean['Marker'] == False]"
   ]
  },
  {
   "cell_type": "code",
   "execution_count": 25,
   "metadata": {
    "collapsed": false
   },
   "outputs": [
    {
     "data": {
      "text/plain": [
       "59"
      ]
     },
     "execution_count": 25,
     "metadata": {},
     "output_type": "execute_result"
    }
   ],
   "source": [
    "len(data_clean['Community Board'].unique())"
   ]
  },
  {
   "cell_type": "code",
   "execution_count": 26,
   "metadata": {
    "collapsed": true
   },
   "outputs": [],
   "source": [
    "# Produce your result: Generate an indicator which ranks the Community District by complaint numbers \n",
    "# on the Community district level"
   ]
  },
  {
   "cell_type": "code",
   "execution_count": 27,
   "metadata": {
    "collapsed": false
   },
   "outputs": [
    {
     "data": {
      "text/html": [
       "<div>\n",
       "<table border=\"1\" class=\"dataframe\">\n",
       "  <thead>\n",
       "    <tr style=\"text-align: right;\">\n",
       "      <th></th>\n",
       "      <th>Unique Key</th>\n",
       "    </tr>\n",
       "    <tr>\n",
       "      <th>Community Board</th>\n",
       "      <th></th>\n",
       "    </tr>\n",
       "  </thead>\n",
       "  <tbody>\n",
       "    <tr>\n",
       "      <th>01 BRONX</th>\n",
       "      <td>74631</td>\n",
       "    </tr>\n",
       "    <tr>\n",
       "      <th>01 BROOKLYN</th>\n",
       "      <td>185057</td>\n",
       "    </tr>\n",
       "    <tr>\n",
       "      <th>01 MANHATTAN</th>\n",
       "      <td>77974</td>\n",
       "    </tr>\n",
       "    <tr>\n",
       "      <th>01 QUEENS</th>\n",
       "      <td>171484</td>\n",
       "    </tr>\n",
       "    <tr>\n",
       "      <th>01 STATEN ISLAND</th>\n",
       "      <td>182713</td>\n",
       "    </tr>\n",
       "    <tr>\n",
       "      <th>02 BRONX</th>\n",
       "      <td>60257</td>\n",
       "    </tr>\n",
       "    <tr>\n",
       "      <th>02 BROOKLYN</th>\n",
       "      <td>121022</td>\n",
       "    </tr>\n",
       "    <tr>\n",
       "      <th>02 MANHATTAN</th>\n",
       "      <td>133860</td>\n",
       "    </tr>\n",
       "    <tr>\n",
       "      <th>02 QUEENS</th>\n",
       "      <td>114333</td>\n",
       "    </tr>\n",
       "    <tr>\n",
       "      <th>02 STATEN ISLAND</th>\n",
       "      <td>121132</td>\n",
       "    </tr>\n",
       "    <tr>\n",
       "      <th>03 BRONX</th>\n",
       "      <td>75134</td>\n",
       "    </tr>\n",
       "    <tr>\n",
       "      <th>03 BROOKLYN</th>\n",
       "      <td>197306</td>\n",
       "    </tr>\n",
       "    <tr>\n",
       "      <th>03 MANHATTAN</th>\n",
       "      <td>150296</td>\n",
       "    </tr>\n",
       "    <tr>\n",
       "      <th>03 QUEENS</th>\n",
       "      <td>122009</td>\n",
       "    </tr>\n",
       "    <tr>\n",
       "      <th>03 STATEN ISLAND</th>\n",
       "      <td>136487</td>\n",
       "    </tr>\n",
       "    <tr>\n",
       "      <th>04 BRONX</th>\n",
       "      <td>181953</td>\n",
       "    </tr>\n",
       "    <tr>\n",
       "      <th>04 BROOKLYN</th>\n",
       "      <td>139706</td>\n",
       "    </tr>\n",
       "    <tr>\n",
       "      <th>04 MANHATTAN</th>\n",
       "      <td>132660</td>\n",
       "    </tr>\n",
       "    <tr>\n",
       "      <th>04 QUEENS</th>\n",
       "      <td>99316</td>\n",
       "    </tr>\n",
       "    <tr>\n",
       "      <th>05 BRONX</th>\n",
       "      <td>161078</td>\n",
       "    </tr>\n",
       "    <tr>\n",
       "      <th>05 BROOKLYN</th>\n",
       "      <td>189765</td>\n",
       "    </tr>\n",
       "    <tr>\n",
       "      <th>05 MANHATTAN</th>\n",
       "      <td>142028</td>\n",
       "    </tr>\n",
       "    <tr>\n",
       "      <th>05 QUEENS</th>\n",
       "      <td>168570</td>\n",
       "    </tr>\n",
       "    <tr>\n",
       "      <th>06 BRONX</th>\n",
       "      <td>99547</td>\n",
       "    </tr>\n",
       "    <tr>\n",
       "      <th>06 BROOKLYN</th>\n",
       "      <td>114029</td>\n",
       "    </tr>\n",
       "    <tr>\n",
       "      <th>06 MANHATTAN</th>\n",
       "      <td>104249</td>\n",
       "    </tr>\n",
       "    <tr>\n",
       "      <th>06 QUEENS</th>\n",
       "      <td>90938</td>\n",
       "    </tr>\n",
       "    <tr>\n",
       "      <th>07 BRONX</th>\n",
       "      <td>185729</td>\n",
       "    </tr>\n",
       "    <tr>\n",
       "      <th>07 BROOKLYN</th>\n",
       "      <td>107031</td>\n",
       "    </tr>\n",
       "    <tr>\n",
       "      <th>07 MANHATTAN</th>\n",
       "      <td>151419</td>\n",
       "    </tr>\n",
       "    <tr>\n",
       "      <th>07 QUEENS</th>\n",
       "      <td>195961</td>\n",
       "    </tr>\n",
       "    <tr>\n",
       "      <th>08 BRONX</th>\n",
       "      <td>92733</td>\n",
       "    </tr>\n",
       "    <tr>\n",
       "      <th>08 BROOKLYN</th>\n",
       "      <td>141119</td>\n",
       "    </tr>\n",
       "    <tr>\n",
       "      <th>08 MANHATTAN</th>\n",
       "      <td>149076</td>\n",
       "    </tr>\n",
       "    <tr>\n",
       "      <th>08 QUEENS</th>\n",
       "      <td>123131</td>\n",
       "    </tr>\n",
       "    <tr>\n",
       "      <th>09 BRONX</th>\n",
       "      <td>147457</td>\n",
       "    </tr>\n",
       "    <tr>\n",
       "      <th>09 BROOKLYN</th>\n",
       "      <td>135833</td>\n",
       "    </tr>\n",
       "    <tr>\n",
       "      <th>09 MANHATTAN</th>\n",
       "      <td>127565</td>\n",
       "    </tr>\n",
       "    <tr>\n",
       "      <th>09 QUEENS</th>\n",
       "      <td>151242</td>\n",
       "    </tr>\n",
       "    <tr>\n",
       "      <th>10 BRONX</th>\n",
       "      <td>95496</td>\n",
       "    </tr>\n",
       "    <tr>\n",
       "      <th>10 BROOKLYN</th>\n",
       "      <td>111837</td>\n",
       "    </tr>\n",
       "    <tr>\n",
       "      <th>10 MANHATTAN</th>\n",
       "      <td>137344</td>\n",
       "    </tr>\n",
       "    <tr>\n",
       "      <th>10 QUEENS</th>\n",
       "      <td>128116</td>\n",
       "    </tr>\n",
       "    <tr>\n",
       "      <th>11 BRONX</th>\n",
       "      <td>122081</td>\n",
       "    </tr>\n",
       "    <tr>\n",
       "      <th>11 BROOKLYN</th>\n",
       "      <td>139890</td>\n",
       "    </tr>\n",
       "    <tr>\n",
       "      <th>11 MANHATTAN</th>\n",
       "      <td>95413</td>\n",
       "    </tr>\n",
       "    <tr>\n",
       "      <th>11 QUEENS</th>\n",
       "      <td>101908</td>\n",
       "    </tr>\n",
       "    <tr>\n",
       "      <th>12 BRONX</th>\n",
       "      <td>168455</td>\n",
       "    </tr>\n",
       "    <tr>\n",
       "      <th>12 BROOKLYN</th>\n",
       "      <td>150320</td>\n",
       "    </tr>\n",
       "    <tr>\n",
       "      <th>12 MANHATTAN</th>\n",
       "      <td>268053</td>\n",
       "    </tr>\n",
       "    <tr>\n",
       "      <th>12 QUEENS</th>\n",
       "      <td>229383</td>\n",
       "    </tr>\n",
       "    <tr>\n",
       "      <th>13 BROOKLYN</th>\n",
       "      <td>72362</td>\n",
       "    </tr>\n",
       "    <tr>\n",
       "      <th>13 QUEENS</th>\n",
       "      <td>163851</td>\n",
       "    </tr>\n",
       "    <tr>\n",
       "      <th>14 BROOKLYN</th>\n",
       "      <td>187794</td>\n",
       "    </tr>\n",
       "    <tr>\n",
       "      <th>14 QUEENS</th>\n",
       "      <td>103396</td>\n",
       "    </tr>\n",
       "    <tr>\n",
       "      <th>15 BROOKLYN</th>\n",
       "      <td>146129</td>\n",
       "    </tr>\n",
       "    <tr>\n",
       "      <th>16 BROOKLYN</th>\n",
       "      <td>85467</td>\n",
       "    </tr>\n",
       "    <tr>\n",
       "      <th>17 BROOKLYN</th>\n",
       "      <td>191720</td>\n",
       "    </tr>\n",
       "    <tr>\n",
       "      <th>18 BROOKLYN</th>\n",
       "      <td>156100</td>\n",
       "    </tr>\n",
       "  </tbody>\n",
       "</table>\n",
       "</div>"
      ],
      "text/plain": [
       "                  Unique Key\n",
       "Community Board             \n",
       "01 BRONX               74631\n",
       "01 BROOKLYN           185057\n",
       "01 MANHATTAN           77974\n",
       "01 QUEENS             171484\n",
       "01 STATEN ISLAND      182713\n",
       "02 BRONX               60257\n",
       "02 BROOKLYN           121022\n",
       "02 MANHATTAN          133860\n",
       "02 QUEENS             114333\n",
       "02 STATEN ISLAND      121132\n",
       "03 BRONX               75134\n",
       "03 BROOKLYN           197306\n",
       "03 MANHATTAN          150296\n",
       "03 QUEENS             122009\n",
       "03 STATEN ISLAND      136487\n",
       "04 BRONX              181953\n",
       "04 BROOKLYN           139706\n",
       "04 MANHATTAN          132660\n",
       "04 QUEENS              99316\n",
       "05 BRONX              161078\n",
       "05 BROOKLYN           189765\n",
       "05 MANHATTAN          142028\n",
       "05 QUEENS             168570\n",
       "06 BRONX               99547\n",
       "06 BROOKLYN           114029\n",
       "06 MANHATTAN          104249\n",
       "06 QUEENS              90938\n",
       "07 BRONX              185729\n",
       "07 BROOKLYN           107031\n",
       "07 MANHATTAN          151419\n",
       "07 QUEENS             195961\n",
       "08 BRONX               92733\n",
       "08 BROOKLYN           141119\n",
       "08 MANHATTAN          149076\n",
       "08 QUEENS             123131\n",
       "09 BRONX              147457\n",
       "09 BROOKLYN           135833\n",
       "09 MANHATTAN          127565\n",
       "09 QUEENS             151242\n",
       "10 BRONX               95496\n",
       "10 BROOKLYN           111837\n",
       "10 MANHATTAN          137344\n",
       "10 QUEENS             128116\n",
       "11 BRONX              122081\n",
       "11 BROOKLYN           139890\n",
       "11 MANHATTAN           95413\n",
       "11 QUEENS             101908\n",
       "12 BRONX              168455\n",
       "12 BROOKLYN           150320\n",
       "12 MANHATTAN          268053\n",
       "12 QUEENS             229383\n",
       "13 BROOKLYN            72362\n",
       "13 QUEENS             163851\n",
       "14 BROOKLYN           187794\n",
       "14 QUEENS             103396\n",
       "15 BROOKLYN           146129\n",
       "16 BROOKLYN            85467\n",
       "17 BROOKLYN           191720\n",
       "18 BROOKLYN           156100"
      ]
     },
     "execution_count": 27,
     "metadata": {},
     "output_type": "execute_result"
    }
   ],
   "source": [
    "data_clean[['Unique Key','Community Board']].groupby('Community Board').count()"
   ]
  },
  {
   "cell_type": "code",
   "execution_count": 28,
   "metadata": {
    "collapsed": true
   },
   "outputs": [],
   "source": [
    "# Safe reduced data frame (Community District level)"
   ]
  },
  {
   "cell_type": "code",
   "execution_count": 29,
   "metadata": {
    "collapsed": true
   },
   "outputs": [],
   "source": [
    "Complain_data = data_clean[['Unique Key','Community Board']].groupby('Community Board').count()"
   ]
  },
  {
   "cell_type": "code",
   "execution_count": 30,
   "metadata": {
    "collapsed": false
   },
   "outputs": [],
   "source": [
    "Complain_data = Complain_data.reset_index()"
   ]
  },
  {
   "cell_type": "code",
   "execution_count": 31,
   "metadata": {
    "collapsed": false
   },
   "outputs": [
    {
     "data": {
      "text/html": [
       "<div>\n",
       "<table border=\"1\" class=\"dataframe\">\n",
       "  <thead>\n",
       "    <tr style=\"text-align: right;\">\n",
       "      <th></th>\n",
       "      <th>Community Board</th>\n",
       "      <th>Unique Key</th>\n",
       "    </tr>\n",
       "  </thead>\n",
       "  <tbody>\n",
       "    <tr>\n",
       "      <th>0</th>\n",
       "      <td>01 BRONX</td>\n",
       "      <td>74631</td>\n",
       "    </tr>\n",
       "    <tr>\n",
       "      <th>1</th>\n",
       "      <td>01 BROOKLYN</td>\n",
       "      <td>185057</td>\n",
       "    </tr>\n",
       "    <tr>\n",
       "      <th>2</th>\n",
       "      <td>01 MANHATTAN</td>\n",
       "      <td>77974</td>\n",
       "    </tr>\n",
       "    <tr>\n",
       "      <th>3</th>\n",
       "      <td>01 QUEENS</td>\n",
       "      <td>171484</td>\n",
       "    </tr>\n",
       "    <tr>\n",
       "      <th>4</th>\n",
       "      <td>01 STATEN ISLAND</td>\n",
       "      <td>182713</td>\n",
       "    </tr>\n",
       "  </tbody>\n",
       "</table>\n",
       "</div>"
      ],
      "text/plain": [
       "    Community Board  Unique Key\n",
       "0          01 BRONX       74631\n",
       "1       01 BROOKLYN      185057\n",
       "2      01 MANHATTAN       77974\n",
       "3         01 QUEENS      171484\n",
       "4  01 STATEN ISLAND      182713"
      ]
     },
     "execution_count": 31,
     "metadata": {},
     "output_type": "execute_result"
    }
   ],
   "source": [
    "Complain_data.head()"
   ]
  },
  {
   "cell_type": "markdown",
   "metadata": {},
   "source": [
    "# 4. Think about the interpretation of your results?\n",
    "What do you have to keep in mind when interpreting your results? Are they generable? Does the way the data is collected influence your results? To better inform city agancies it might be good to explore in more detail the underlying dempgraphics/infrastructure of a Community District becasue this might influence 311 calls. You can do this by merging external data on the Community District level to your analysis data. "
   ]
  },
  {
   "cell_type": "code",
   "execution_count": 32,
   "metadata": {
    "collapsed": false
   },
   "outputs": [],
   "source": [
    "# Population by Community District\n",
    "df_pop = pd.read_csv('http://cosmo.nyu.edu/~fb55/PUI2016/data/'+ \"/Final_Demographics.csv\")"
   ]
  },
  {
   "cell_type": "code",
   "execution_count": 33,
   "metadata": {
    "collapsed": false
   },
   "outputs": [
    {
     "data": {
      "text/html": [
       "<div>\n",
       "<table border=\"1\" class=\"dataframe\">\n",
       "  <thead>\n",
       "    <tr style=\"text-align: right;\">\n",
       "      <th></th>\n",
       "      <th>FIPS</th>\n",
       "      <th>cd_id</th>\n",
       "      <th>Total Population</th>\n",
       "      <th>Population Density (per sq. mile)</th>\n",
       "      <th>% Total Population: Male</th>\n",
       "      <th>% Total Population: 18 to 24 Years</th>\n",
       "      <th>% Total Population: 25 to 34 Years</th>\n",
       "      <th>% Total Population: 35 to 44 Years</th>\n",
       "      <th>% Population 5 Years And Over: Speak Only English</th>\n",
       "      <th>% Population 5 Years And Over: Spanish or Spanish Creole</th>\n",
       "      <th>...</th>\n",
       "      <th>Employed Civilian Population 16 Years And Over: Production, transportation, and material moving  occupations: Production occupations</th>\n",
       "      <th>Employed Civilian Population 16 Years And Over: Production, transportation, and material moving  occupations: Transportation and material moving occupations</th>\n",
       "      <th>% Employed Civilian Population 16 Years And Over: Management, professional, and related occupations</th>\n",
       "      <th>% Employed Civilian Population 16 Years And Over: Service occupations</th>\n",
       "      <th>% Employed Civilian Population 16 Years And Over: Sales and office occupations</th>\n",
       "      <th>% Employed Civilian Population 16 Years And Over: Farming, fishing, and forestry occupations</th>\n",
       "      <th>% Employed Civilian Population 16 Years And Over: Construction, extraction, and maintenance  occupations</th>\n",
       "      <th>% Employed Civilian Population 16 Years And Over: Production, transportation, and material moving  occupations</th>\n",
       "      <th>% Employed Civilian Population 16 Years And Over: Production, transportation, and material moving  occupations: Production occupations</th>\n",
       "      <th>% Employed Civilian Population 16 Years And Over: Production, transportation, and material moving  occupations: Transportation and material moving occupations</th>\n",
       "    </tr>\n",
       "  </thead>\n",
       "  <tbody>\n",
       "    <tr>\n",
       "      <th>0</th>\n",
       "      <td>3603701</td>\n",
       "      <td>BX08</td>\n",
       "      <td>106737</td>\n",
       "      <td>31229.95006</td>\n",
       "      <td>46.65</td>\n",
       "      <td>10.73</td>\n",
       "      <td>15.04</td>\n",
       "      <td>11.32</td>\n",
       "      <td>46.80</td>\n",
       "      <td>39.24</td>\n",
       "      <td>...</td>\n",
       "      <td>665</td>\n",
       "      <td>1518</td>\n",
       "      <td>42.66</td>\n",
       "      <td>28.95</td>\n",
       "      <td>20.89</td>\n",
       "      <td>0.24</td>\n",
       "      <td>2.65</td>\n",
       "      <td>4.60</td>\n",
       "      <td>1.40</td>\n",
       "      <td>3.20</td>\n",
       "    </tr>\n",
       "    <tr>\n",
       "      <th>1</th>\n",
       "      <td>3603702</td>\n",
       "      <td>BX12</td>\n",
       "      <td>134644</td>\n",
       "      <td>19966.67839</td>\n",
       "      <td>46.35</td>\n",
       "      <td>11.35</td>\n",
       "      <td>14.29</td>\n",
       "      <td>12.57</td>\n",
       "      <td>73.09</td>\n",
       "      <td>18.19</td>\n",
       "      <td>...</td>\n",
       "      <td>1156</td>\n",
       "      <td>4174</td>\n",
       "      <td>29.57</td>\n",
       "      <td>33.98</td>\n",
       "      <td>20.40</td>\n",
       "      <td>0.00</td>\n",
       "      <td>7.08</td>\n",
       "      <td>8.97</td>\n",
       "      <td>1.95</td>\n",
       "      <td>7.02</td>\n",
       "    </tr>\n",
       "    <tr>\n",
       "      <th>2</th>\n",
       "      <td>3603703</td>\n",
       "      <td>BX10</td>\n",
       "      <td>121209</td>\n",
       "      <td>12913.81703</td>\n",
       "      <td>45.20</td>\n",
       "      <td>8.62</td>\n",
       "      <td>13.74</td>\n",
       "      <td>12.78</td>\n",
       "      <td>61.79</td>\n",
       "      <td>26.43</td>\n",
       "      <td>...</td>\n",
       "      <td>941</td>\n",
       "      <td>3433</td>\n",
       "      <td>36.20</td>\n",
       "      <td>22.85</td>\n",
       "      <td>25.09</td>\n",
       "      <td>0.00</td>\n",
       "      <td>7.68</td>\n",
       "      <td>8.18</td>\n",
       "      <td>1.76</td>\n",
       "      <td>6.42</td>\n",
       "    </tr>\n",
       "    <tr>\n",
       "      <th>3</th>\n",
       "      <td>3603704</td>\n",
       "      <td>BX11</td>\n",
       "      <td>135839</td>\n",
       "      <td>35677.95453</td>\n",
       "      <td>50.09</td>\n",
       "      <td>8.10</td>\n",
       "      <td>17.43</td>\n",
       "      <td>14.09</td>\n",
       "      <td>43.22</td>\n",
       "      <td>36.45</td>\n",
       "      <td>...</td>\n",
       "      <td>2189</td>\n",
       "      <td>5592</td>\n",
       "      <td>30.06</td>\n",
       "      <td>27.86</td>\n",
       "      <td>22.24</td>\n",
       "      <td>0.00</td>\n",
       "      <td>7.03</td>\n",
       "      <td>12.81</td>\n",
       "      <td>3.60</td>\n",
       "      <td>9.20</td>\n",
       "    </tr>\n",
       "    <tr>\n",
       "      <th>4</th>\n",
       "      <td>3603705</td>\n",
       "      <td>BX03</td>\n",
       "      <td>172247</td>\n",
       "      <td>39405.79222</td>\n",
       "      <td>44.72</td>\n",
       "      <td>14.24</td>\n",
       "      <td>14.89</td>\n",
       "      <td>12.38</td>\n",
       "      <td>36.82</td>\n",
       "      <td>54.24</td>\n",
       "      <td>...</td>\n",
       "      <td>1437</td>\n",
       "      <td>5436</td>\n",
       "      <td>16.80</td>\n",
       "      <td>41.00</td>\n",
       "      <td>22.29</td>\n",
       "      <td>0.03</td>\n",
       "      <td>8.45</td>\n",
       "      <td>11.43</td>\n",
       "      <td>2.39</td>\n",
       "      <td>9.04</td>\n",
       "    </tr>\n",
       "  </tbody>\n",
       "</table>\n",
       "<p>5 rows × 158 columns</p>\n",
       "</div>"
      ],
      "text/plain": [
       "      FIPS cd_id  Total Population  Population Density (per sq. mile)  \\\n",
       "0  3603701  BX08            106737                        31229.95006   \n",
       "1  3603702  BX12            134644                        19966.67839   \n",
       "2  3603703  BX10            121209                        12913.81703   \n",
       "3  3603704  BX11            135839                        35677.95453   \n",
       "4  3603705  BX03            172247                        39405.79222   \n",
       "\n",
       "   % Total Population: Male  % Total Population: 18 to 24 Years  \\\n",
       "0                     46.65                               10.73   \n",
       "1                     46.35                               11.35   \n",
       "2                     45.20                                8.62   \n",
       "3                     50.09                                8.10   \n",
       "4                     44.72                               14.24   \n",
       "\n",
       "   % Total Population: 25 to 34 Years  % Total Population: 35 to 44 Years  \\\n",
       "0                               15.04                               11.32   \n",
       "1                               14.29                               12.57   \n",
       "2                               13.74                               12.78   \n",
       "3                               17.43                               14.09   \n",
       "4                               14.89                               12.38   \n",
       "\n",
       "   % Population 5 Years And Over: Speak Only English  \\\n",
       "0                                              46.80   \n",
       "1                                              73.09   \n",
       "2                                              61.79   \n",
       "3                                              43.22   \n",
       "4                                              36.82   \n",
       "\n",
       "   % Population 5 Years And Over: Spanish or Spanish Creole  \\\n",
       "0                                              39.24          \n",
       "1                                              18.19          \n",
       "2                                              26.43          \n",
       "3                                              36.45          \n",
       "4                                              54.24          \n",
       "\n",
       "                                                                                ...                                                                                \\\n",
       "0                                                                               ...                                                                                 \n",
       "1                                                                               ...                                                                                 \n",
       "2                                                                               ...                                                                                 \n",
       "3                                                                               ...                                                                                 \n",
       "4                                                                               ...                                                                                 \n",
       "\n",
       "   Employed Civilian Population 16 Years And Over: Production, transportation, and material moving  occupations: Production occupations  \\\n",
       "0                                                665                                                                                      \n",
       "1                                               1156                                                                                      \n",
       "2                                                941                                                                                      \n",
       "3                                               2189                                                                                      \n",
       "4                                               1437                                                                                      \n",
       "\n",
       "   Employed Civilian Population 16 Years And Over: Production, transportation, and material moving  occupations: Transportation and material moving occupations  \\\n",
       "0                                               1518                                                                                                              \n",
       "1                                               4174                                                                                                              \n",
       "2                                               3433                                                                                                              \n",
       "3                                               5592                                                                                                              \n",
       "4                                               5436                                                                                                              \n",
       "\n",
       "   % Employed Civilian Population 16 Years And Over: Management, professional, and related occupations  \\\n",
       "0                                              42.66                                                     \n",
       "1                                              29.57                                                     \n",
       "2                                              36.20                                                     \n",
       "3                                              30.06                                                     \n",
       "4                                              16.80                                                     \n",
       "\n",
       "   % Employed Civilian Population 16 Years And Over: Service occupations  \\\n",
       "0                                              28.95                       \n",
       "1                                              33.98                       \n",
       "2                                              22.85                       \n",
       "3                                              27.86                       \n",
       "4                                              41.00                       \n",
       "\n",
       "   % Employed Civilian Population 16 Years And Over: Sales and office occupations  \\\n",
       "0                                              20.89                                \n",
       "1                                              20.40                                \n",
       "2                                              25.09                                \n",
       "3                                              22.24                                \n",
       "4                                              22.29                                \n",
       "\n",
       "   % Employed Civilian Population 16 Years And Over: Farming, fishing, and forestry occupations  \\\n",
       "0                                               0.24                                              \n",
       "1                                               0.00                                              \n",
       "2                                               0.00                                              \n",
       "3                                               0.00                                              \n",
       "4                                               0.03                                              \n",
       "\n",
       "   % Employed Civilian Population 16 Years And Over: Construction, extraction, and maintenance  occupations  \\\n",
       "0                                               2.65                                                          \n",
       "1                                               7.08                                                          \n",
       "2                                               7.68                                                          \n",
       "3                                               7.03                                                          \n",
       "4                                               8.45                                                          \n",
       "\n",
       "   % Employed Civilian Population 16 Years And Over: Production, transportation, and material moving  occupations  \\\n",
       "0                                               4.60                                                                \n",
       "1                                               8.97                                                                \n",
       "2                                               8.18                                                                \n",
       "3                                              12.81                                                                \n",
       "4                                              11.43                                                                \n",
       "\n",
       "   % Employed Civilian Population 16 Years And Over: Production, transportation, and material moving  occupations: Production occupations  \\\n",
       "0                                               1.40                                                                                        \n",
       "1                                               1.95                                                                                        \n",
       "2                                               1.76                                                                                        \n",
       "3                                               3.60                                                                                        \n",
       "4                                               2.39                                                                                        \n",
       "\n",
       "   % Employed Civilian Population 16 Years And Over: Production, transportation, and material moving  occupations: Transportation and material moving occupations  \n",
       "0                                               3.20                                                                                                               \n",
       "1                                               7.02                                                                                                               \n",
       "2                                               6.42                                                                                                               \n",
       "3                                               9.20                                                                                                               \n",
       "4                                               9.04                                                                                                               \n",
       "\n",
       "[5 rows x 158 columns]"
      ]
     },
     "execution_count": 33,
     "metadata": {},
     "output_type": "execute_result"
    }
   ],
   "source": [
    "df_pop.head()"
   ]
  },
  {
   "cell_type": "code",
   "execution_count": 34,
   "metadata": {
    "collapsed": false
   },
   "outputs": [],
   "source": [
    "# Check variables in file"
   ]
  },
  {
   "cell_type": "code",
   "execution_count": 35,
   "metadata": {
    "collapsed": false
   },
   "outputs": [
    {
     "data": {
      "text/plain": [
       "array(['FIPS', 'cd_id', 'Total Population',\n",
       "       'Population Density (per sq. mile)', '% Total Population: Male',\n",
       "       '% Total Population: 18 to 24 Years',\n",
       "       '% Total Population: 25 to 34 Years',\n",
       "       '% Total Population: 35 to 44 Years',\n",
       "       '% Population 5 Years And Over: Speak Only English',\n",
       "       '% Population 5 Years And Over: Spanish or Spanish Creole',\n",
       "       '% Population 5 Years And Over: Spanish or Spanish Creole: Speak English \"very Well\"',\n",
       "       '% Population 5 Years And Over: Spanish or Spanish Creole: Speak English Less Than \"very Well\"',\n",
       "       'Population 25 Years and over:',\n",
       "       'Population 25 Years and over: Less Than High School',\n",
       "       'Population 25 Years and over: High School Graduate (includes equivalency)',\n",
       "       'Population 25 Years and over: Some college',\n",
       "       \"Population 25 Years and over: Bachelor's degree\",\n",
       "       \"Population 25 Years and over: Master's degree\",\n",
       "       'Population 25 Years and over: Professional school degree',\n",
       "       'Population 25 Years and over: Doctorate degree',\n",
       "       '% Population 25 Years and over: Less Than High School',\n",
       "       '% Population 25 Years and over: High School Graduate (includes equivalency)',\n",
       "       '% Population 25 Years and over: Some college',\n",
       "       \"% Population 25 Years and over: Bachelor's degree\",\n",
       "       \"% Population 25 Years and over: Master's degree\",\n",
       "       '% Population 25 Years and over: Professional school degree',\n",
       "       '% Population 25 Years and over: Doctorate degree',\n",
       "       'Population 25 Years and over:.1',\n",
       "       'Population 25 Years and over: Less Than High School.1',\n",
       "       'Population 25 Years and over: High School Graduate or more (includes equivalency)',\n",
       "       'Population 25 Years and over: Some college or more',\n",
       "       \"Population 25 Years and over: Bachelor's degree or more\",\n",
       "       \"Population 25 Years and over: Master's degree or more\",\n",
       "       'Population 25 Years and over: Professional school degree or more',\n",
       "       'Population 25 Years and over: Doctorate degree.1',\n",
       "       '% Population 25 Years and over: Less Than High School.1',\n",
       "       '% Population 25 Years and over: High School Graduate or more (includes equivalency)',\n",
       "       '% Population 25 Years and over: Some college or more',\n",
       "       \"% Population 25 Years and over: Bachelor's degree or more\",\n",
       "       \"% Population 25 Years and over: Master's degree or more\",\n",
       "       '% Population 25 Years and over: Professional school degree or more',\n",
       "       '% Population 25 Years and over: Doctorate degree.1',\n",
       "       'Population 3 Years and over:',\n",
       "       'Population 3 Years and over: Enrolled in School',\n",
       "       'Population 3 Years and over: Not Enrolled in School',\n",
       "       '% Population 3 Years and over: Enrolled in School',\n",
       "       '% Population 3 Years and over: Not Enrolled in School',\n",
       "       'Population 3 Years and over Enrolled In School',\n",
       "       'Population 3 Years and over Enrolled In School: Public School',\n",
       "       'Population 3 Years and over Enrolled In School: Public School: Pre-school',\n",
       "       'Population 3 Years and over Enrolled In School: Public School: K-8',\n",
       "       'Population 3 Years and over Enrolled In School: Public School: 9-12',\n",
       "       'Population 3 Years and over Enrolled In School: Public School: College',\n",
       "       'Population 3 Years and over Enrolled In School: Private School',\n",
       "       'Population 3 Years and over Enrolled In School: Private School: Pre-school',\n",
       "       'Population 3 Years and over Enrolled In School: Private School: K-8',\n",
       "       'Population 3 Years and over Enrolled In School: Private School: 9-12',\n",
       "       'Population 3 Years and over Enrolled In School: Private School: College',\n",
       "       '% Population 3 Years and over Enrolled In School: Public School',\n",
       "       '% Population 3 Years and over Enrolled In School: Public School: Pre-school',\n",
       "       '% Population 3 Years and over Enrolled In School: Public School: K-8',\n",
       "       '% Population 3 Years and over Enrolled In School: Public School: 9-12',\n",
       "       '% Population 3 Years and over Enrolled In School: Public School: College',\n",
       "       '% Population 3 Years and over Enrolled In School: Private School',\n",
       "       '% Population 3 Years and over Enrolled In School: Private School: Pre-school',\n",
       "       '% Population 3 Years and over Enrolled In School: Private School: K-8',\n",
       "       '% Population 3 Years and over Enrolled In School: Private School: 9-12',\n",
       "       '% Population 3 Years and over Enrolled In School: Private School: College',\n",
       "       'Employed civilian Population 16 Years and over:',\n",
       "       'Employed civilian Population 16 Years and over: Management, business, and financial operations  occupations',\n",
       "       'Employed civilian Population 16 Years and over: Professional and related occupations',\n",
       "       'Employed civilian Population 16 Years and over: Healthcare support occupations',\n",
       "       'Employed civilian Population 16 Years and over: Protective service occupations',\n",
       "       'Employed civilian Population 16 Years and over: Food preparation and serving related occupations',\n",
       "       'Employed civilian Population 16 Years and over: Building and grounds cleaning and maintenance  occupations',\n",
       "       'Employed civilian Population 16 Years and over: Personal care and service occupations',\n",
       "       'Employed civilian Population 16 Years and over: Sales and related occupations',\n",
       "       'Employed civilian Population 16 Years and over: Office and administrative support occupations',\n",
       "       'Employed civilian Population 16 Years and over: Farming, fishing, and forestry occupations',\n",
       "       'Employed civilian Population 16 Years and over: Construction, extraction, and maintenance  occupations',\n",
       "       'Employed civilian Population 16 Years and over: Production occupations',\n",
       "       'Employed civilian Population 16 Years and over: Transportation and material moving occupations',\n",
       "       '% Employed civilian Population 16 Years and over: Management, business, and financial operations  occupations',\n",
       "       '% Employed civilian Population 16 Years and over: Professional and related occupations',\n",
       "       '% Employed civilian Population 16 Years and over: Healthcare support occupations',\n",
       "       '% Employed civilian Population 16 Years and over: Protective service occupations',\n",
       "       '% Employed civilian Population 16 Years and over: Food preparation and serving related occupations',\n",
       "       '% Employed civilian Population 16 Years and over: Building and grounds cleaning and maintenance  occupations',\n",
       "       '% Employed civilian Population 16 Years and over: Personal care and service occupations',\n",
       "       '% Employed civilian Population 16 Years and over: Sales and related occupations',\n",
       "       '% Employed civilian Population 16 Years and over: Office and administrative support occupations',\n",
       "       '% Employed civilian Population 16 Years and over: Farming, fishing, and forestry occupations',\n",
       "       '% Employed civilian Population 16 Years and over: Construction, extraction, and maintenance  occupations',\n",
       "       '% Employed civilian Population 16 Years and over: Production occupations',\n",
       "       '% Employed civilian Population 16 Years and over: Transportation and material moving occupations',\n",
       "       'Employed Civilian Population 16 Years And Over:',\n",
       "       'Employed Civilian Population 16 Years And Over: Private Sector',\n",
       "       'Employed Civilian Population 16 Years And Over: Public Sector',\n",
       "       'Employed Civilian Population 16 Years And Over: Self-Employed (incorporated and not incorporated)',\n",
       "       'Employed Civilian Population 16 Years And Over: Private Non-Profit',\n",
       "       'Employed Civilian Population 16 Years And Over: Unpaid Family Workers',\n",
       "       '% Employed Civilian Population 16 Years And Over: Private Sector',\n",
       "       '% Employed Civilian Population 16 Years And Over: Public Sector',\n",
       "       '% Employed Civilian Population 16 Years And Over: Self-Employed (incorporated and not incorporated)',\n",
       "       '% Employed Civilian Population 16 Years And Over: Private Non-Profit',\n",
       "       '% Employed Civilian Population 16 Years And Over: Unpaid Family Workers',\n",
       "       'Households:', 'Households: Less than $10,000',\n",
       "       'Households: $10,000 to $14,999', 'Households: $15,000 to $19,999',\n",
       "       'Households: $20,000 to $24,999', 'Households: $25,000 to $29,999',\n",
       "       'Households: $30,000 to $34,999', 'Households: $35,000 to $39,999',\n",
       "       'Households: $40,000 to $44,999', 'Households: $45,000 to $49,999',\n",
       "       'Households: $50,000 to $59,999', 'Households: $60,000 to $74,999',\n",
       "       'Households: $75,000 to $99,999',\n",
       "       'Households: $100,000 to $124,999',\n",
       "       'Households: $125,000 to $149,999',\n",
       "       'Households: $150,000 to $199,999', 'Households: $200,000 or More',\n",
       "       '% Households: Less than $10,000',\n",
       "       '% Households: $10,000 to $14,999',\n",
       "       '% Households: $15,000 to $19,999',\n",
       "       '% Households: $20,000 to $24,999',\n",
       "       '% Households: $25,000 to $29,999',\n",
       "       '% Households: $30,000 to $34,999',\n",
       "       '% Households: $35,000 to $39,999',\n",
       "       '% Households: $40,000 to $44,999',\n",
       "       '% Households: $45,000 to $49,999',\n",
       "       '% Households: $50,000 to $59,999',\n",
       "       '% Households: $60,000 to $74,999',\n",
       "       '% Households: $75,000 to $99,999',\n",
       "       '% Households: $100,000 to $124,999',\n",
       "       '% Households: $125,000 to $149,999',\n",
       "       '% Households: $150,000 to $199,999',\n",
       "       '% Households: $200,000 or More',\n",
       "       'Median household income (In 2014 Inflation Adjusted Dollars)',\n",
       "       'Per capita income (In 2014 Inflation Adjusted Dollars)',\n",
       "       'Employed Civilian Population 16 Years And Over:.1',\n",
       "       'Employed Civilian Population 16 Years And Over: Management, professional, and related occupations',\n",
       "       'Employed Civilian Population 16 Years And Over: Service occupations',\n",
       "       'Employed Civilian Population 16 Years And Over: Sales and office occupations',\n",
       "       'Employed Civilian Population 16 Years And Over: Farming, fishing, and forestry occupations',\n",
       "       'Employed Civilian Population 16 Years And Over: Construction, extraction, and maintenance  occupations',\n",
       "       'Employed Civilian Population 16 Years And Over: Production, transportation, and material moving  occupations',\n",
       "       'Employed Civilian Population 16 Years And Over: Production, transportation, and material moving  occupations: Production occupations',\n",
       "       'Employed Civilian Population 16 Years And Over: Production, transportation, and material moving  occupations: Transportation and material moving occupations',\n",
       "       '% Employed Civilian Population 16 Years And Over: Management, professional, and related occupations',\n",
       "       '% Employed Civilian Population 16 Years And Over: Service occupations',\n",
       "       '% Employed Civilian Population 16 Years And Over: Sales and office occupations',\n",
       "       '% Employed Civilian Population 16 Years And Over: Farming, fishing, and forestry occupations',\n",
       "       '% Employed Civilian Population 16 Years And Over: Construction, extraction, and maintenance  occupations',\n",
       "       '% Employed Civilian Population 16 Years And Over: Production, transportation, and material moving  occupations',\n",
       "       '% Employed Civilian Population 16 Years And Over: Production, transportation, and material moving  occupations: Production occupations',\n",
       "       '% Employed Civilian Population 16 Years And Over: Production, transportation, and material moving  occupations: Transportation and material moving occupations'], dtype=object)"
      ]
     },
     "execution_count": 35,
     "metadata": {},
     "output_type": "execute_result"
    }
   ],
   "source": [
    "df_pop.columns.values"
   ]
  },
  {
   "cell_type": "code",
   "execution_count": 36,
   "metadata": {
    "collapsed": false
   },
   "outputs": [],
   "source": [
    "# How many community districts are in file? "
   ]
  },
  {
   "cell_type": "code",
   "execution_count": 37,
   "metadata": {
    "collapsed": false
   },
   "outputs": [
    {
     "data": {
      "text/plain": [
       "59"
      ]
     },
     "execution_count": 37,
     "metadata": {},
     "output_type": "execute_result"
    }
   ],
   "source": [
    "df_pop.cd_id.count()"
   ]
  },
  {
   "cell_type": "code",
   "execution_count": 38,
   "metadata": {
    "collapsed": true
   },
   "outputs": [],
   "source": [
    "# Manipulate data to get some information on demographics by Community District. \n",
    "# Think about who might be more likely to call 311"
   ]
  },
  {
   "cell_type": "code",
   "execution_count": 39,
   "metadata": {
    "collapsed": false
   },
   "outputs": [],
   "source": [
    "demog = df_pop[['cd_id', 'Median household income (In 2014 Inflation Adjusted Dollars)']]"
   ]
  },
  {
   "cell_type": "code",
   "execution_count": 40,
   "metadata": {
    "collapsed": false
   },
   "outputs": [
    {
     "data": {
      "text/html": [
       "<div>\n",
       "<table border=\"1\" class=\"dataframe\">\n",
       "  <thead>\n",
       "    <tr style=\"text-align: right;\">\n",
       "      <th></th>\n",
       "      <th>cd_id</th>\n",
       "      <th>Median household income (In 2014 Inflation Adjusted Dollars)</th>\n",
       "    </tr>\n",
       "  </thead>\n",
       "  <tbody>\n",
       "    <tr>\n",
       "      <th>0</th>\n",
       "      <td>BX08</td>\n",
       "      <td>54224</td>\n",
       "    </tr>\n",
       "    <tr>\n",
       "      <th>1</th>\n",
       "      <td>BX12</td>\n",
       "      <td>44906</td>\n",
       "    </tr>\n",
       "    <tr>\n",
       "      <th>2</th>\n",
       "      <td>BX10</td>\n",
       "      <td>54962</td>\n",
       "    </tr>\n",
       "    <tr>\n",
       "      <th>3</th>\n",
       "      <td>BX11</td>\n",
       "      <td>47910</td>\n",
       "    </tr>\n",
       "    <tr>\n",
       "      <th>4</th>\n",
       "      <td>BX03</td>\n",
       "      <td>22041</td>\n",
       "    </tr>\n",
       "  </tbody>\n",
       "</table>\n",
       "</div>"
      ],
      "text/plain": [
       "  cd_id  Median household income (In 2014 Inflation Adjusted Dollars)\n",
       "0  BX08                                              54224           \n",
       "1  BX12                                              44906           \n",
       "2  BX10                                              54962           \n",
       "3  BX11                                              47910           \n",
       "4  BX03                                              22041           "
      ]
     },
     "execution_count": 40,
     "metadata": {},
     "output_type": "execute_result"
    }
   ],
   "source": [
    "demog.head()"
   ]
  },
  {
   "cell_type": "code",
   "execution_count": 41,
   "metadata": {
    "collapsed": true
   },
   "outputs": [],
   "source": [
    "# Save data frame"
   ]
  },
  {
   "cell_type": "code",
   "execution_count": 42,
   "metadata": {
    "collapsed": false
   },
   "outputs": [],
   "source": [
    "demog.columns = ['cd_id','Median household income']"
   ]
  },
  {
   "cell_type": "code",
   "execution_count": 43,
   "metadata": {
    "collapsed": false
   },
   "outputs": [
    {
     "data": {
      "text/html": [
       "<div>\n",
       "<table border=\"1\" class=\"dataframe\">\n",
       "  <thead>\n",
       "    <tr style=\"text-align: right;\">\n",
       "      <th></th>\n",
       "      <th>cd_id</th>\n",
       "      <th>Median household income</th>\n",
       "    </tr>\n",
       "  </thead>\n",
       "  <tbody>\n",
       "    <tr>\n",
       "      <th>0</th>\n",
       "      <td>BX08</td>\n",
       "      <td>54224</td>\n",
       "    </tr>\n",
       "    <tr>\n",
       "      <th>1</th>\n",
       "      <td>BX12</td>\n",
       "      <td>44906</td>\n",
       "    </tr>\n",
       "    <tr>\n",
       "      <th>2</th>\n",
       "      <td>BX10</td>\n",
       "      <td>54962</td>\n",
       "    </tr>\n",
       "    <tr>\n",
       "      <th>3</th>\n",
       "      <td>BX11</td>\n",
       "      <td>47910</td>\n",
       "    </tr>\n",
       "    <tr>\n",
       "      <th>4</th>\n",
       "      <td>BX03</td>\n",
       "      <td>22041</td>\n",
       "    </tr>\n",
       "  </tbody>\n",
       "</table>\n",
       "</div>"
      ],
      "text/plain": [
       "  cd_id  Median household income\n",
       "0  BX08                    54224\n",
       "1  BX12                    44906\n",
       "2  BX10                    54962\n",
       "3  BX11                    47910\n",
       "4  BX03                    22041"
      ]
     },
     "execution_count": 43,
     "metadata": {},
     "output_type": "execute_result"
    }
   ],
   "source": [
    "demog.head()"
   ]
  },
  {
   "cell_type": "code",
   "execution_count": 44,
   "metadata": {
    "collapsed": false
   },
   "outputs": [],
   "source": [
    "# Infrastructure by Community District\n",
    "df_infr = pd.read_csv('http://cosmo.nyu.edu/~fb55/PUI2016/data/'\n",
    "                      + \"/ACS_Computer_Use_and_Internet_2014_1Year_Estimate.csv\")"
   ]
  },
  {
   "cell_type": "code",
   "execution_count": 45,
   "metadata": {
    "collapsed": false
   },
   "outputs": [],
   "source": [
    "# Check variables in file"
   ]
  },
  {
   "cell_type": "code",
   "execution_count": 46,
   "metadata": {
    "collapsed": false
   },
   "outputs": [
    {
     "data": {
      "text/plain": [
       "Index([u'FIPS', u'Geographic Identifier', u'Qualifying Name', u'Households',\n",
       "       u'Households: With An Internet Subscription',\n",
       "       u'Households: Dial-Up Alone', u'Households: Dsl',\n",
       "       u'Households: With Mobile Broadband',\n",
       "       u'Households: Without Mobile Broadband', u'Households: Cable Modem',\n",
       "       u'Households: With Mobile Broadband.1',\n",
       "       u'Households: Without Mobile Broadband.1', u'Households: Fiber-Optic',\n",
       "       u'Households: With Mobile Broadband.2',\n",
       "       u'Households: Without Mobile Broadband.2',\n",
       "       u'Households: Satellite Internet Service',\n",
       "       u'Households: With Mobile Broadband.3',\n",
       "       u'Households: Without Mobile Broadband.3',\n",
       "       u'Households: Two or More Fixed Broadband Types, or Other',\n",
       "       u'Households: With Mobile Broadband.4',\n",
       "       u'Households: Without Mobile Broadband.4',\n",
       "       u'Households: Mobile Broadband Alone or With Dialup',\n",
       "       u'Households: Internet Access Without A Subscription',\n",
       "       u'Households: No Internet Access',\n",
       "       u'% Households: With An Internet Subscription', u'Households.1',\n",
       "       u'Households: Has A Computer',\n",
       "       u'Households: With Dial-Up Internet Subscription Alone',\n",
       "       u'Households: With A Broadband Internet Subscription',\n",
       "       u'Households: Without An Internet Subscription',\n",
       "       u'Households: No Computer'],\n",
       "      dtype='object')"
      ]
     },
     "execution_count": 46,
     "metadata": {},
     "output_type": "execute_result"
    }
   ],
   "source": [
    "df_infr.columns"
   ]
  },
  {
   "cell_type": "code",
   "execution_count": 47,
   "metadata": {
    "collapsed": true
   },
   "outputs": [],
   "source": [
    "# How many community districts are in file? "
   ]
  },
  {
   "cell_type": "code",
   "execution_count": 48,
   "metadata": {
    "collapsed": false
   },
   "outputs": [
    {
     "name": "stdout",
     "output_type": "stream",
     "text": [
      "The number of community districts are: 55\n"
     ]
    }
   ],
   "source": [
    "CD = len(df_infr['Qualifying Name'].unique())\n",
    "print ('The number of community districts are:', CD)"
   ]
  },
  {
   "cell_type": "code",
   "execution_count": 49,
   "metadata": {
    "collapsed": true
   },
   "outputs": [],
   "source": [
    "# Manipulate data to get some information on internet/broadband useage by Community District\n",
    "# Aggregate the mobile subscription data"
   ]
  },
  {
   "cell_type": "code",
   "execution_count": 50,
   "metadata": {
    "collapsed": false
   },
   "outputs": [
    {
     "data": {
      "text/plain": [
       "Index([u'FIPS', u'Geographic Identifier', u'Qualifying Name', u'Households',\n",
       "       u'Households: With An Internet Subscription',\n",
       "       u'Households: Dial-Up Alone', u'Households: Dsl',\n",
       "       u'Households: With Mobile Broadband',\n",
       "       u'Households: Without Mobile Broadband', u'Households: Cable Modem',\n",
       "       u'Households: With Mobile Broadband.1',\n",
       "       u'Households: Without Mobile Broadband.1', u'Households: Fiber-Optic',\n",
       "       u'Households: With Mobile Broadband.2',\n",
       "       u'Households: Without Mobile Broadband.2',\n",
       "       u'Households: Satellite Internet Service',\n",
       "       u'Households: With Mobile Broadband.3',\n",
       "       u'Households: Without Mobile Broadband.3',\n",
       "       u'Households: Two or More Fixed Broadband Types, or Other',\n",
       "       u'Households: With Mobile Broadband.4',\n",
       "       u'Households: Without Mobile Broadband.4',\n",
       "       u'Households: Mobile Broadband Alone or With Dialup',\n",
       "       u'Households: Internet Access Without A Subscription',\n",
       "       u'Households: No Internet Access',\n",
       "       u'% Households: With An Internet Subscription', u'Households.1',\n",
       "       u'Households: Has A Computer',\n",
       "       u'Households: With Dial-Up Internet Subscription Alone',\n",
       "       u'Households: With A Broadband Internet Subscription',\n",
       "       u'Households: Without An Internet Subscription',\n",
       "       u'Households: No Computer'],\n",
       "      dtype='object')"
      ]
     },
     "execution_count": 50,
     "metadata": {},
     "output_type": "execute_result"
    }
   ],
   "source": [
    "df_infr.columns"
   ]
  },
  {
   "cell_type": "code",
   "execution_count": 51,
   "metadata": {
    "collapsed": false
   },
   "outputs": [],
   "source": [
    "Infra_Comm = df_infr[(['Qualifying Name',u'Households: With An Internet Subscription',\n",
    "       'Households: Internet Access Without A Subscription',\n",
    "       'Households: No Internet Access',\n",
    "       '% Households: With An Internet Subscription'])] "
   ]
  },
  {
   "cell_type": "code",
   "execution_count": 52,
   "metadata": {
    "collapsed": false
   },
   "outputs": [],
   "source": [
    "mobile = (df_infr[u'Households: With Mobile Broadband'] +  df_infr['Households: With Mobile Broadband.1'] +\n",
    "         df_infr['Households: With Mobile Broadband.2'] + df_infr['Households: With Mobile Broadband.3']+\n",
    "         df_infr['Households: With Mobile Broadband.4'])"
   ]
  },
  {
   "cell_type": "code",
   "execution_count": 53,
   "metadata": {
    "collapsed": false
   },
   "outputs": [
    {
     "name": "stderr",
     "output_type": "stream",
     "text": [
      "/opt/rh/anaconda/root/envs/PUI2016_Python2/lib/python2.7/site-packages/ipykernel/__main__.py:1: SettingWithCopyWarning: \n",
      "A value is trying to be set on a copy of a slice from a DataFrame.\n",
      "Try using .loc[row_indexer,col_indexer] = value instead\n",
      "\n",
      "See the caveats in the documentation: http://pandas.pydata.org/pandas-docs/stable/indexing.html#indexing-view-versus-copy\n",
      "  if __name__ == '__main__':\n"
     ]
    }
   ],
   "source": [
    "Infra_Comm['mobile'] =mobile"
   ]
  },
  {
   "cell_type": "code",
   "execution_count": 54,
   "metadata": {
    "collapsed": true
   },
   "outputs": [],
   "source": [
    "# Aggregate internet type by high and low connections"
   ]
  },
  {
   "cell_type": "code",
   "execution_count": 55,
   "metadata": {
    "collapsed": false
   },
   "outputs": [
    {
     "name": "stderr",
     "output_type": "stream",
     "text": [
      "/opt/rh/anaconda/root/envs/PUI2016_Python2/lib/python2.7/site-packages/ipykernel/__main__.py:4: SettingWithCopyWarning: \n",
      "A value is trying to be set on a copy of a slice from a DataFrame.\n",
      "Try using .loc[row_indexer,col_indexer] = value instead\n",
      "\n",
      "See the caveats in the documentation: http://pandas.pydata.org/pandas-docs/stable/indexing.html#indexing-view-versus-copy\n"
     ]
    }
   ],
   "source": [
    "Infra_Comm['fast connection'] = (df_infr['Households: Dsl'] + df_infr['Households: Cable Modem'] +\n",
    "                                   df_infr['Households: Fiber-Optic'] + \n",
    "                                   df_infr['Households: Satellite Internet Service'] + \n",
    "                                   df_infr['Households: Two or More Fixed Broadband Types, or Other'])"
   ]
  },
  {
   "cell_type": "code",
   "execution_count": 56,
   "metadata": {
    "collapsed": false
   },
   "outputs": [
    {
     "name": "stderr",
     "output_type": "stream",
     "text": [
      "/opt/rh/anaconda/root/envs/PUI2016_Python2/lib/python2.7/site-packages/ipykernel/__main__.py:3: SettingWithCopyWarning: \n",
      "A value is trying to be set on a copy of a slice from a DataFrame.\n",
      "Try using .loc[row_indexer,col_indexer] = value instead\n",
      "\n",
      "See the caveats in the documentation: http://pandas.pydata.org/pandas-docs/stable/indexing.html#indexing-view-versus-copy\n",
      "  app.launch_new_instance()\n"
     ]
    }
   ],
   "source": [
    "Infra_Comm['slow connection'] = (df_infr['Households: Dial-Up Alone'] + \n",
    "                                   df_infr['Households: Mobile Broadband Alone or With Dialup'] +\n",
    "                                   df_infr['Households: Internet Access Without A Subscription'])"
   ]
  },
  {
   "cell_type": "code",
   "execution_count": 57,
   "metadata": {
    "collapsed": true
   },
   "outputs": [],
   "source": [
    "# Save data frame "
   ]
  },
  {
   "cell_type": "code",
   "execution_count": 58,
   "metadata": {
    "collapsed": false
   },
   "outputs": [
    {
     "data": {
      "text/html": [
       "<div>\n",
       "<table border=\"1\" class=\"dataframe\">\n",
       "  <thead>\n",
       "    <tr style=\"text-align: right;\">\n",
       "      <th></th>\n",
       "      <th>Qualifying Name</th>\n",
       "      <th>Households: With An Internet Subscription</th>\n",
       "      <th>Households: Internet Access Without A Subscription</th>\n",
       "      <th>Households: No Internet Access</th>\n",
       "      <th>% Households: With An Internet Subscription</th>\n",
       "      <th>mobile</th>\n",
       "      <th>fast connection</th>\n",
       "      <th>slow connection</th>\n",
       "    </tr>\n",
       "  </thead>\n",
       "  <tbody>\n",
       "    <tr>\n",
       "      <th>0</th>\n",
       "      <td>NYC-Bronx Community District 8--Riverdale, New...</td>\n",
       "      <td>31795</td>\n",
       "      <td>2119</td>\n",
       "      <td>8121</td>\n",
       "      <td>75.64</td>\n",
       "      <td>15359</td>\n",
       "      <td>29183</td>\n",
       "      <td>4731</td>\n",
       "    </tr>\n",
       "    <tr>\n",
       "      <th>1</th>\n",
       "      <td>NYC-Bronx Community District 12--Wakefield, Ne...</td>\n",
       "      <td>32243</td>\n",
       "      <td>1891</td>\n",
       "      <td>10696</td>\n",
       "      <td>71.92</td>\n",
       "      <td>10486</td>\n",
       "      <td>31137</td>\n",
       "      <td>2997</td>\n",
       "    </tr>\n",
       "    <tr>\n",
       "      <th>2</th>\n",
       "      <td>NYC-Bronx Community District 10--Co-op City, N...</td>\n",
       "      <td>32729</td>\n",
       "      <td>2882</td>\n",
       "      <td>11439</td>\n",
       "      <td>69.56</td>\n",
       "      <td>11425</td>\n",
       "      <td>31932</td>\n",
       "      <td>3679</td>\n",
       "    </tr>\n",
       "    <tr>\n",
       "      <th>3</th>\n",
       "      <td>NYC-Bronx Community District 11--Pelham Parkwa...</td>\n",
       "      <td>32003</td>\n",
       "      <td>2722</td>\n",
       "      <td>10197</td>\n",
       "      <td>71.24</td>\n",
       "      <td>10748</td>\n",
       "      <td>30861</td>\n",
       "      <td>3864</td>\n",
       "    </tr>\n",
       "    <tr>\n",
       "      <th>4</th>\n",
       "      <td>NYC-Bronx Community District 3 &amp; 6--Belmont, N...</td>\n",
       "      <td>35503</td>\n",
       "      <td>3312</td>\n",
       "      <td>18741</td>\n",
       "      <td>61.68</td>\n",
       "      <td>14907</td>\n",
       "      <td>34030</td>\n",
       "      <td>4785</td>\n",
       "    </tr>\n",
       "  </tbody>\n",
       "</table>\n",
       "</div>"
      ],
      "text/plain": [
       "                                     Qualifying Name  \\\n",
       "0  NYC-Bronx Community District 8--Riverdale, New...   \n",
       "1  NYC-Bronx Community District 12--Wakefield, Ne...   \n",
       "2  NYC-Bronx Community District 10--Co-op City, N...   \n",
       "3  NYC-Bronx Community District 11--Pelham Parkwa...   \n",
       "4  NYC-Bronx Community District 3 & 6--Belmont, N...   \n",
       "\n",
       "   Households: With An Internet Subscription  \\\n",
       "0                                      31795   \n",
       "1                                      32243   \n",
       "2                                      32729   \n",
       "3                                      32003   \n",
       "4                                      35503   \n",
       "\n",
       "   Households: Internet Access Without A Subscription  \\\n",
       "0                                               2119    \n",
       "1                                               1891    \n",
       "2                                               2882    \n",
       "3                                               2722    \n",
       "4                                               3312    \n",
       "\n",
       "   Households: No Internet Access  \\\n",
       "0                            8121   \n",
       "1                           10696   \n",
       "2                           11439   \n",
       "3                           10197   \n",
       "4                           18741   \n",
       "\n",
       "   % Households: With An Internet Subscription  mobile  fast connection  \\\n",
       "0                                        75.64   15359            29183   \n",
       "1                                        71.92   10486            31137   \n",
       "2                                        69.56   11425            31932   \n",
       "3                                        71.24   10748            30861   \n",
       "4                                        61.68   14907            34030   \n",
       "\n",
       "   slow connection  \n",
       "0             4731  \n",
       "1             2997  \n",
       "2             3679  \n",
       "3             3864  \n",
       "4             4785  "
      ]
     },
     "execution_count": 58,
     "metadata": {},
     "output_type": "execute_result"
    }
   ],
   "source": [
    "Infra_Comm.head()"
   ]
  },
  {
   "cell_type": "markdown",
   "metadata": {},
   "source": [
    "# 5. Inform your results by linking datasets\n",
    "Now you want to link the three data frames to produce summary statistics for Community Districts which show a high number of complaints vs. Community Districts which show a lower number of complaints. Please keep in mind that the identifiers used for the linkage (Community Dostrict IDs) should be recored the same way. Use regular expressions to harmonize the identifiers if possible. The identifiers should look like BK01, BK02, etc.\n",
    "https://docs.python.org/2/library/re.html"
   ]
  },
  {
   "cell_type": "code",
   "execution_count": 59,
   "metadata": {
    "collapsed": false
   },
   "outputs": [],
   "source": [
    "# Harmonize identifier of dataframe 1"
   ]
  },
  {
   "cell_type": "code",
   "execution_count": 60,
   "metadata": {
    "collapsed": false
   },
   "outputs": [
    {
     "data": {
      "text/html": [
       "<div>\n",
       "<table border=\"1\" class=\"dataframe\">\n",
       "  <thead>\n",
       "    <tr style=\"text-align: right;\">\n",
       "      <th></th>\n",
       "      <th>Community Board</th>\n",
       "      <th>Unique Key</th>\n",
       "    </tr>\n",
       "  </thead>\n",
       "  <tbody>\n",
       "    <tr>\n",
       "      <th>0</th>\n",
       "      <td>01 BRONX</td>\n",
       "      <td>74631</td>\n",
       "    </tr>\n",
       "    <tr>\n",
       "      <th>1</th>\n",
       "      <td>01 BROOKLYN</td>\n",
       "      <td>185057</td>\n",
       "    </tr>\n",
       "    <tr>\n",
       "      <th>2</th>\n",
       "      <td>01 MANHATTAN</td>\n",
       "      <td>77974</td>\n",
       "    </tr>\n",
       "    <tr>\n",
       "      <th>3</th>\n",
       "      <td>01 QUEENS</td>\n",
       "      <td>171484</td>\n",
       "    </tr>\n",
       "    <tr>\n",
       "      <th>4</th>\n",
       "      <td>01 STATEN ISLAND</td>\n",
       "      <td>182713</td>\n",
       "    </tr>\n",
       "  </tbody>\n",
       "</table>\n",
       "</div>"
      ],
      "text/plain": [
       "    Community Board  Unique Key\n",
       "0          01 BRONX       74631\n",
       "1       01 BROOKLYN      185057\n",
       "2      01 MANHATTAN       77974\n",
       "3         01 QUEENS      171484\n",
       "4  01 STATEN ISLAND      182713"
      ]
     },
     "execution_count": 60,
     "metadata": {},
     "output_type": "execute_result"
    }
   ],
   "source": [
    "Complain_data.head()"
   ]
  },
  {
   "cell_type": "code",
   "execution_count": 61,
   "metadata": {
    "collapsed": true
   },
   "outputs": [],
   "source": [
    "Code = pd.DataFrame (Complain_data['Community Board'].str.split(' ', 1).tolist(), columns = ['number','borough'])"
   ]
  },
  {
   "cell_type": "code",
   "execution_count": 62,
   "metadata": {
    "collapsed": false
   },
   "outputs": [
    {
     "data": {
      "text/html": [
       "<div>\n",
       "<table border=\"1\" class=\"dataframe\">\n",
       "  <thead>\n",
       "    <tr style=\"text-align: right;\">\n",
       "      <th></th>\n",
       "      <th>number</th>\n",
       "      <th>borough</th>\n",
       "    </tr>\n",
       "  </thead>\n",
       "  <tbody>\n",
       "    <tr>\n",
       "      <th>0</th>\n",
       "      <td>01</td>\n",
       "      <td>BRONX</td>\n",
       "    </tr>\n",
       "    <tr>\n",
       "      <th>1</th>\n",
       "      <td>01</td>\n",
       "      <td>BROOKLYN</td>\n",
       "    </tr>\n",
       "  </tbody>\n",
       "</table>\n",
       "</div>"
      ],
      "text/plain": [
       "  number   borough\n",
       "0     01     BRONX\n",
       "1     01  BROOKLYN"
      ]
     },
     "execution_count": 62,
     "metadata": {},
     "output_type": "execute_result"
    }
   ],
   "source": [
    "Code.head(2)"
   ]
  },
  {
   "cell_type": "code",
   "execution_count": 63,
   "metadata": {
    "collapsed": false
   },
   "outputs": [],
   "source": [
    "Code.borough = Code.borough.str.replace('BRONX', 'BX')\n",
    "Code.borough = Code.borough.str.replace('BROOKLYN', 'BK')\n",
    "Code.borough = Code.borough.str.replace('MANHATTAN', 'MN')\n",
    "Code.borough = Code.borough.str.replace('QUEENS', 'QN')\n",
    "Code.borough = Code.borough.str.replace('STATEN ISLAND', 'SI')"
   ]
  },
  {
   "cell_type": "code",
   "execution_count": 64,
   "metadata": {
    "collapsed": false
   },
   "outputs": [
    {
     "data": {
      "text/html": [
       "<div>\n",
       "<table border=\"1\" class=\"dataframe\">\n",
       "  <thead>\n",
       "    <tr style=\"text-align: right;\">\n",
       "      <th></th>\n",
       "      <th>number</th>\n",
       "      <th>borough</th>\n",
       "    </tr>\n",
       "  </thead>\n",
       "  <tbody>\n",
       "    <tr>\n",
       "      <th>0</th>\n",
       "      <td>01</td>\n",
       "      <td>BX</td>\n",
       "    </tr>\n",
       "    <tr>\n",
       "      <th>1</th>\n",
       "      <td>01</td>\n",
       "      <td>BK</td>\n",
       "    </tr>\n",
       "  </tbody>\n",
       "</table>\n",
       "</div>"
      ],
      "text/plain": [
       "  number borough\n",
       "0     01      BX\n",
       "1     01      BK"
      ]
     },
     "execution_count": 64,
     "metadata": {},
     "output_type": "execute_result"
    }
   ],
   "source": [
    "Code.head(2)"
   ]
  },
  {
   "cell_type": "code",
   "execution_count": 65,
   "metadata": {
    "collapsed": false
   },
   "outputs": [],
   "source": [
    "Complain_data['Code'] = Code.borough+Code.number"
   ]
  },
  {
   "cell_type": "code",
   "execution_count": 66,
   "metadata": {
    "collapsed": false
   },
   "outputs": [
    {
     "data": {
      "text/html": [
       "<div>\n",
       "<table border=\"1\" class=\"dataframe\">\n",
       "  <thead>\n",
       "    <tr style=\"text-align: right;\">\n",
       "      <th></th>\n",
       "      <th>Community Board</th>\n",
       "      <th>Unique Key</th>\n",
       "      <th>Code</th>\n",
       "    </tr>\n",
       "  </thead>\n",
       "  <tbody>\n",
       "    <tr>\n",
       "      <th>0</th>\n",
       "      <td>01 BRONX</td>\n",
       "      <td>74631</td>\n",
       "      <td>BX01</td>\n",
       "    </tr>\n",
       "    <tr>\n",
       "      <th>1</th>\n",
       "      <td>01 BROOKLYN</td>\n",
       "      <td>185057</td>\n",
       "      <td>BK01</td>\n",
       "    </tr>\n",
       "  </tbody>\n",
       "</table>\n",
       "</div>"
      ],
      "text/plain": [
       "  Community Board  Unique Key  Code\n",
       "0        01 BRONX       74631  BX01\n",
       "1     01 BROOKLYN      185057  BK01"
      ]
     },
     "execution_count": 66,
     "metadata": {},
     "output_type": "execute_result"
    }
   ],
   "source": [
    "Complain_data.head(2)"
   ]
  },
  {
   "cell_type": "code",
   "execution_count": 67,
   "metadata": {
    "collapsed": false
   },
   "outputs": [],
   "source": [
    "# Harmonize identifier of dataframe 2"
   ]
  },
  {
   "cell_type": "code",
   "execution_count": 68,
   "metadata": {
    "collapsed": false
   },
   "outputs": [
    {
     "name": "stderr",
     "output_type": "stream",
     "text": [
      "/opt/rh/anaconda/root/envs/PUI2016_Python2/lib/python2.7/site-packages/ipykernel/__main__.py:1: SettingWithCopyWarning: \n",
      "A value is trying to be set on a copy of a slice from a DataFrame.\n",
      "Try using .loc[row_indexer,col_indexer] = value instead\n",
      "\n",
      "See the caveats in the documentation: http://pandas.pydata.org/pandas-docs/stable/indexing.html#indexing-view-versus-copy\n",
      "  if __name__ == '__main__':\n"
     ]
    }
   ],
   "source": [
    "demog['Code'] = demog['cd_id']"
   ]
  },
  {
   "cell_type": "code",
   "execution_count": 69,
   "metadata": {
    "collapsed": false
   },
   "outputs": [
    {
     "data": {
      "text/html": [
       "<div>\n",
       "<table border=\"1\" class=\"dataframe\">\n",
       "  <thead>\n",
       "    <tr style=\"text-align: right;\">\n",
       "      <th></th>\n",
       "      <th>cd_id</th>\n",
       "      <th>Median household income</th>\n",
       "      <th>Code</th>\n",
       "    </tr>\n",
       "  </thead>\n",
       "  <tbody>\n",
       "    <tr>\n",
       "      <th>0</th>\n",
       "      <td>BX08</td>\n",
       "      <td>54224</td>\n",
       "      <td>BX08</td>\n",
       "    </tr>\n",
       "    <tr>\n",
       "      <th>1</th>\n",
       "      <td>BX12</td>\n",
       "      <td>44906</td>\n",
       "      <td>BX12</td>\n",
       "    </tr>\n",
       "    <tr>\n",
       "      <th>2</th>\n",
       "      <td>BX10</td>\n",
       "      <td>54962</td>\n",
       "      <td>BX10</td>\n",
       "    </tr>\n",
       "    <tr>\n",
       "      <th>3</th>\n",
       "      <td>BX11</td>\n",
       "      <td>47910</td>\n",
       "      <td>BX11</td>\n",
       "    </tr>\n",
       "    <tr>\n",
       "      <th>4</th>\n",
       "      <td>BX03</td>\n",
       "      <td>22041</td>\n",
       "      <td>BX03</td>\n",
       "    </tr>\n",
       "  </tbody>\n",
       "</table>\n",
       "</div>"
      ],
      "text/plain": [
       "  cd_id  Median household income  Code\n",
       "0  BX08                    54224  BX08\n",
       "1  BX12                    44906  BX12\n",
       "2  BX10                    54962  BX10\n",
       "3  BX11                    47910  BX11\n",
       "4  BX03                    22041  BX03"
      ]
     },
     "execution_count": 69,
     "metadata": {},
     "output_type": "execute_result"
    }
   ],
   "source": [
    "demog.head()"
   ]
  },
  {
   "cell_type": "code",
   "execution_count": 70,
   "metadata": {
    "collapsed": false
   },
   "outputs": [],
   "source": [
    "# Link the 3 dataframes"
   ]
  },
  {
   "cell_type": "code",
   "execution_count": 73,
   "metadata": {
    "collapsed": false
   },
   "outputs": [
    {
     "data": {
      "text/html": [
       "<div>\n",
       "<table border=\"1\" class=\"dataframe\">\n",
       "  <thead>\n",
       "    <tr style=\"text-align: right;\">\n",
       "      <th></th>\n",
       "      <th>Qualifying Name</th>\n",
       "      <th>Households: With An Internet Subscription</th>\n",
       "      <th>Households: Internet Access Without A Subscription</th>\n",
       "      <th>Households: No Internet Access</th>\n",
       "      <th>% Households: With An Internet Subscription</th>\n",
       "      <th>mobile</th>\n",
       "      <th>fast connection</th>\n",
       "      <th>slow connection</th>\n",
       "    </tr>\n",
       "  </thead>\n",
       "  <tbody>\n",
       "    <tr>\n",
       "      <th>0</th>\n",
       "      <td>NYC-Bronx Community District 8--Riverdale, New...</td>\n",
       "      <td>31795</td>\n",
       "      <td>2119</td>\n",
       "      <td>8121</td>\n",
       "      <td>75.64</td>\n",
       "      <td>15359</td>\n",
       "      <td>29183</td>\n",
       "      <td>4731</td>\n",
       "    </tr>\n",
       "    <tr>\n",
       "      <th>1</th>\n",
       "      <td>NYC-Bronx Community District 12--Wakefield, Ne...</td>\n",
       "      <td>32243</td>\n",
       "      <td>1891</td>\n",
       "      <td>10696</td>\n",
       "      <td>71.92</td>\n",
       "      <td>10486</td>\n",
       "      <td>31137</td>\n",
       "      <td>2997</td>\n",
       "    </tr>\n",
       "    <tr>\n",
       "      <th>2</th>\n",
       "      <td>NYC-Bronx Community District 10--Co-op City, N...</td>\n",
       "      <td>32729</td>\n",
       "      <td>2882</td>\n",
       "      <td>11439</td>\n",
       "      <td>69.56</td>\n",
       "      <td>11425</td>\n",
       "      <td>31932</td>\n",
       "      <td>3679</td>\n",
       "    </tr>\n",
       "    <tr>\n",
       "      <th>3</th>\n",
       "      <td>NYC-Bronx Community District 11--Pelham Parkwa...</td>\n",
       "      <td>32003</td>\n",
       "      <td>2722</td>\n",
       "      <td>10197</td>\n",
       "      <td>71.24</td>\n",
       "      <td>10748</td>\n",
       "      <td>30861</td>\n",
       "      <td>3864</td>\n",
       "    </tr>\n",
       "    <tr>\n",
       "      <th>4</th>\n",
       "      <td>NYC-Bronx Community District 3 &amp; 6--Belmont, N...</td>\n",
       "      <td>35503</td>\n",
       "      <td>3312</td>\n",
       "      <td>18741</td>\n",
       "      <td>61.68</td>\n",
       "      <td>14907</td>\n",
       "      <td>34030</td>\n",
       "      <td>4785</td>\n",
       "    </tr>\n",
       "  </tbody>\n",
       "</table>\n",
       "</div>"
      ],
      "text/plain": [
       "                                     Qualifying Name  \\\n",
       "0  NYC-Bronx Community District 8--Riverdale, New...   \n",
       "1  NYC-Bronx Community District 12--Wakefield, Ne...   \n",
       "2  NYC-Bronx Community District 10--Co-op City, N...   \n",
       "3  NYC-Bronx Community District 11--Pelham Parkwa...   \n",
       "4  NYC-Bronx Community District 3 & 6--Belmont, N...   \n",
       "\n",
       "   Households: With An Internet Subscription  \\\n",
       "0                                      31795   \n",
       "1                                      32243   \n",
       "2                                      32729   \n",
       "3                                      32003   \n",
       "4                                      35503   \n",
       "\n",
       "   Households: Internet Access Without A Subscription  \\\n",
       "0                                               2119    \n",
       "1                                               1891    \n",
       "2                                               2882    \n",
       "3                                               2722    \n",
       "4                                               3312    \n",
       "\n",
       "   Households: No Internet Access  \\\n",
       "0                            8121   \n",
       "1                           10696   \n",
       "2                           11439   \n",
       "3                           10197   \n",
       "4                           18741   \n",
       "\n",
       "   % Households: With An Internet Subscription  mobile  fast connection  \\\n",
       "0                                        75.64   15359            29183   \n",
       "1                                        71.92   10486            31137   \n",
       "2                                        69.56   11425            31932   \n",
       "3                                        71.24   10748            30861   \n",
       "4                                        61.68   14907            34030   \n",
       "\n",
       "   slow connection  \n",
       "0             4731  \n",
       "1             2997  \n",
       "2             3679  \n",
       "3             3864  \n",
       "4             4785  "
      ]
     },
     "execution_count": 73,
     "metadata": {},
     "output_type": "execute_result"
    }
   ],
   "source": [
    "Infra_Comm.head()"
   ]
  },
  {
   "cell_type": "code",
   "execution_count": null,
   "metadata": {
    "collapsed": true
   },
   "outputs": [],
   "source": []
  },
  {
   "cell_type": "code",
   "execution_count": 72,
   "metadata": {
    "collapsed": true
   },
   "outputs": [],
   "source": [
    "# Are the demographics and infrastructure different in Community Districts that show more complaints than others?"
   ]
  }
 ],
 "metadata": {
  "celltoolbar": "Raw Cell Format",
  "kernelspec": {
   "display_name": "PUI2016_Python2",
   "language": "python",
   "name": "pui2016_python2"
  },
  "language_info": {
   "codemirror_mode": {
    "name": "ipython",
    "version": 2
   },
   "file_extension": ".py",
   "mimetype": "text/x-python",
   "name": "python",
   "nbconvert_exporter": "python",
   "pygments_lexer": "ipython2",
   "version": "2.7.12"
  }
 },
 "nbformat": 4,
 "nbformat_minor": 0
}
